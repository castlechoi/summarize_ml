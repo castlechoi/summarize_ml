{
  "nbformat": 4,
  "nbformat_minor": 0,
  "metadata": {
    "colab": {
      "provenance": [],
      "authorship_tag": "ABX9TyPOwJbJzv8QeJsW9jxRwAxx"
    },
    "kernelspec": {
      "name": "python3",
      "display_name": "Python 3"
    },
    "language_info": {
      "name": "python"
    }
  },
  "cells": [
    {
      "cell_type": "markdown",
      "source": [
        "###pre"
      ],
      "metadata": {
        "id": "fiwK03v1P3tJ"
      }
    },
    {
      "cell_type": "code",
      "execution_count": null,
      "metadata": {
        "id": "zQWtFd32OLUA"
      },
      "outputs": [],
      "source": [
        "import pandas as pd\n",
        "import numpy as np\n",
        "\n",
        "from sklearn.preprocessing import LabelEncoder\n",
        "from sklearn.ensemble import RandomForestRegressor, GradientBoostingRegressor\n",
        "from sklearn.linear_model import Lasso,Ridge\n",
        "\n",
        "import matplotlib.pyplot as plt"
      ]
    },
    {
      "cell_type": "code",
      "source": [
        "train_df = pd.read_csv('./train.csv')"
      ],
      "metadata": {
        "id": "sPTuTNhnOseO"
      },
      "execution_count": null,
      "outputs": []
    },
    {
      "cell_type": "code",
      "source": [
        "train_x = train_df.drop(columns = ['TIMESTAMP','PRODUCT_ID', 'Y_Quality','Y_Class'])\n",
        "train_y = train_df[['Y_Quality','PRODUCT_CODE']]"
      ],
      "metadata": {
        "id": "GA8er46iO1oW"
      },
      "execution_count": null,
      "outputs": []
    },
    {
      "cell_type": "code",
      "source": [
        "# qualitative to quantitative\n",
        "qual_col = ['LINE', 'PRODUCT_CODE']\n",
        "\n",
        "for i in qual_col:\n",
        "    le = LabelEncoder()\n",
        "    le = le.fit(train_x[i])\n",
        "    train_x[i] = le.transform(train_x[i])\n",
        "    \n",
        "print('Done.')"
      ],
      "metadata": {
        "colab": {
          "base_uri": "https://localhost:8080/"
        },
        "id": "t6fDHBnoXf3U",
        "outputId": "36ca401a-f051-4d4b-a282-368cfbab06e1"
      },
      "execution_count": null,
      "outputs": [
        {
          "output_type": "stream",
          "name": "stdout",
          "text": [
            "Done.\n"
          ]
        }
      ]
    },
    {
      "cell_type": "code",
      "source": [
        "train_a = train_x[train_x['PRODUCT_CODE'] == 0]\n",
        "train_t = train_x[train_x['PRODUCT_CODE'] != 0]\n",
        "\n",
        "train_a_y = train_y[train_y['PRODUCT_CODE'] == 'A_31']\n",
        "train_t_y = train_y[train_y['PRODUCT_CODE'] != 'A_31']\n",
        "train_a_y = train_a_y['Y_Quality']\n",
        "train_t_y = train_t_y['Y_Quality']\n",
        "\n",
        "col = train_x.columns\n",
        "na_a_col = []\n",
        "na_t_col = []\n",
        "for i in col:\n",
        "  if train_a[i].count() == 0:\n",
        "    na_a_col.append(i)\n",
        "  if train_t[i].count() == 0:\n",
        "    na_t_col.append(i)\n",
        "a_col = []\n",
        "t_col = []\n",
        "\n",
        "for i in col:\n",
        "  if i == 'PRODUCT_CODE' or i == 'LINE' or i == 'Y_Quality':\n",
        "    continue\n",
        "  if i not in na_a_col:\n",
        "    a_col.append(i)\n",
        "  if i not in na_t_col:\n",
        "    t_col.append(i)\n",
        "comm_na_col = []\n",
        "for i in na_a_col:\n",
        "  if i in na_t_col:\n",
        "   comm_na_col.append(i)\n",
        "train_a.drop(comm_na_col, axis = 1, inplace = True)\n",
        "train_t.drop(comm_na_col, axis = 1, inplace = True)\n",
        "train_a.drop(t_col, axis = 1, inplace = True)\n",
        "train_t.drop(a_col,axis = 1, inplace = True)\n",
        "print(f\"Shape of A_31/T_31 : {train_a.shape} {train_t.shape}\")"
      ],
      "metadata": {
        "colab": {
          "base_uri": "https://localhost:8080/"
        },
        "id": "5sao3uefPIaG",
        "outputId": "82bafa05-9580-4d8b-dbcc-9d87dc0b2f03"
      },
      "execution_count": null,
      "outputs": [
        {
          "output_type": "stream",
          "name": "stdout",
          "text": [
            "Shape of A_31/T_31 : (249, 2118) (349, 679)\n"
          ]
        },
        {
          "output_type": "stream",
          "name": "stderr",
          "text": [
            "/usr/local/lib/python3.8/dist-packages/pandas/core/frame.py:4906: SettingWithCopyWarning: \n",
            "A value is trying to be set on a copy of a slice from a DataFrame\n",
            "\n",
            "See the caveats in the documentation: https://pandas.pydata.org/pandas-docs/stable/user_guide/indexing.html#returning-a-view-versus-a-copy\n",
            "  return super().drop(\n"
          ]
        }
      ]
    },
    {
      "cell_type": "code",
      "source": [
        "train_a = train_a.fillna(0)\n",
        "train_t = train_t.fillna(0)"
      ],
      "metadata": {
        "id": "BkCCcKGDUc28"
      },
      "execution_count": null,
      "outputs": []
    },
    {
      "cell_type": "code",
      "source": [
        "train_t_col = train_t.columns\n",
        "tmp = []\n",
        "for i in train_t_col:\n",
        "  if i == 'LINE' or i == 'PRODUCT_CODE':\n",
        "    continue\n",
        "  if len(train_t[i].unique()) <2:\n",
        "    tmp.append(i)\n",
        "train_t = train_t.drop(tmp,axis = 1)\n",
        "print(train_t.shape)"
      ],
      "metadata": {
        "colab": {
          "base_uri": "https://localhost:8080/"
        },
        "id": "N0fBt7EOP7pL",
        "outputId": "b9edb123-e640-42a8-fa47-7c47161f87fb"
      },
      "execution_count": null,
      "outputs": [
        {
          "output_type": "stream",
          "name": "stdout",
          "text": [
            "(349, 586)\n"
          ]
        }
      ]
    },
    {
      "cell_type": "code",
      "source": [
        "train_a_col = train_a.columns\n",
        "tmp = []\n",
        "for i in train_a_col:\n",
        "  if i == 'LINE' or i == 'PRODUCT_CODE':\n",
        "    continue\n",
        "  if len(train_a[i].unique()) <2:\n",
        "    tmp.append(i)\n",
        "train_a = train_a.drop(tmp,axis = 1)\n",
        "print(train_a.shape)"
      ],
      "metadata": {
        "colab": {
          "base_uri": "https://localhost:8080/"
        },
        "id": "yfJMtrEySeBr",
        "outputId": "de984c1c-6320-43ce-d3de-f0abe03c0147"
      },
      "execution_count": null,
      "outputs": [
        {
          "output_type": "stream",
          "name": "stdout",
          "text": [
            "(249, 1973)\n"
          ]
        }
      ]
    },
    {
      "cell_type": "code",
      "source": [
        "test_a = train_a[220:]\n",
        "test_a_y = train_a_y[220:]\n",
        "train_a = train_a[:220]\n",
        "train_a_y = train_a_y[:220]\n",
        "test_t = train_t[300:]\n",
        "test_t_y = train_t_y[300:]\n",
        "train_t = train_t[:300]\n",
        "train_t_y = train_t_y[:300]"
      ],
      "metadata": {
        "id": "7xRZHBOzW6S7"
      },
      "execution_count": null,
      "outputs": []
    },
    {
      "cell_type": "markdown",
      "source": [
        "### 라쏘"
      ],
      "metadata": {
        "id": "uF4Icf-8U50A"
      }
    },
    {
      "cell_type": "code",
      "source": [
        "RF_a = GradientBoostingRegressor(n_estimators = 1000).fit(train_a, train_a_y)\n",
        "RF_t = Lasso(alpha = 0.000001).fit(train_t, train_t_y)"
      ],
      "metadata": {
        "colab": {
          "base_uri": "https://localhost:8080/"
        },
        "id": "i-v6c8q-Wl7Y",
        "outputId": "fb0a8ebe-941f-4c94-bb7d-e04099f49b8f"
      },
      "execution_count": null,
      "outputs": [
        {
          "output_type": "stream",
          "name": "stderr",
          "text": [
            "/usr/local/lib/python3.8/dist-packages/sklearn/linear_model/_coordinate_descent.py:647: ConvergenceWarning: Objective did not converge. You might want to increase the number of iterations, check the scale of the features or consider increasing regularisation. Duality gap: 1.971e-04, tolerance: 5.291e-07\n",
            "  model = cd_fast.enet_coordinate_descent(\n"
          ]
        }
      ]
    },
    {
      "cell_type": "code",
      "source": [
        "\n",
        "tmp = []\n",
        "for i in RF_t.coef_:\n",
        "  if i != 0:\n",
        "    tmp.append(i)\n",
        "print(len(tmp))"
      ],
      "metadata": {
        "colab": {
          "base_uri": "https://localhost:8080/"
        },
        "id": "i9Kibz90XuPp",
        "outputId": "cea6ca1c-8cd7-459f-8ccc-548a4cc41f73"
      },
      "execution_count": null,
      "outputs": [
        {
          "output_type": "stream",
          "name": "stdout",
          "text": [
            "401\n"
          ]
        }
      ]
    },
    {
      "cell_type": "code",
      "source": [
        "pred_a = RF_a.predict(test_a)\n",
        "pred_t = RF_t.predict(test_t)"
      ],
      "metadata": {
        "id": "DMiDhHVIXomH"
      },
      "execution_count": null,
      "outputs": []
    },
    {
      "cell_type": "code",
      "source": [
        "plt.figure(figsize = (10,6))\n",
        "plt.subplot(2,1,1)\n",
        "plt.scatter(range(len(test_a_y.values)), pred_a)\n",
        "plt.scatter(range(len(test_a_y.values)), test_a_y.values)\n",
        "plt.ylim(0.51,0.55)\n",
        "\n",
        "plt.subplot(2,1,2)\n",
        "plt.scatter(range(len(test_t_y.values)), pred_t)\n",
        "plt.scatter(range(len(test_t_y.values)), test_t_y.values)\n",
        "plt.show()"
      ],
      "metadata": {
        "colab": {
          "base_uri": "https://localhost:8080/",
          "height": 378
        },
        "id": "7jnxdwJpYH3g",
        "outputId": "c4b58240-9491-4456-e2fd-9fd8ecedb5a2"
      },
      "execution_count": null,
      "outputs": [
        {
          "output_type": "display_data",
          "data": {
            "text/plain": [
              "<Figure size 720x432 with 2 Axes>"
            ],
            "image/png": "[encoded data removed]"
          },
          "metadata": {
            "needs_background": "light"
          }
        }
      ]
    }
  ]
}