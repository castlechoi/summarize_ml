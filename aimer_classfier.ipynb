{
  "nbformat": 4,
  "nbformat_minor": 0,
  "metadata": {
    "colab": {
      "provenance": [],
      "authorship_tag": "ABX9TyPltHIeNzNL1bXuHGrbAAfV"
    },
    "kernelspec": {
      "name": "python3",
      "display_name": "Python 3"
    },
    "language_info": {
      "name": "python"
    }
  },
  "cells": [
    {
      "cell_type": "markdown",
      "source": [
        "##classification"
      ],
      "metadata": {
        "id": "HRqmI3-cTze9"
      }
    },
    {
      "cell_type": "code",
      "source": [
        "from sklearn.tree import DecisionTreeClassifier\n",
        "from sklearn import svm\n",
        "from sklearn.linear_model import LogisticRegression, SGDClassifier\n",
        "from sklearn.metrics import accuracy_score\n",
        "from tqdm import tqdm\n",
        "import torch\n",
        "import torch.nn as nn\n",
        "import torch.nn.functional as F"
      ],
      "metadata": {
        "id": "t8gdFlHIefmP"
      },
      "execution_count": null,
      "outputs": []
    },
    {
      "cell_type": "code",
      "source": [
        "train_x = train_df.drop(columns=['PRODUCT_ID', 'TIMESTAMP', 'Y_Class','Y_Quality'])\n",
        "train_y = train_df[['Y_Class','PRODUCT_CODE']]\n",
        "t_class = train_df[['Y_Class', 'PRODUCT_CODE']]\n",
        "\n",
        "train_a = train_x[train_x['PRODUCT_CODE'] == 'A_31']\n",
        "train_t = train_x[train_x['PRODUCT_CODE'] != 'A_31']\n",
        "\n",
        "t_class_a = t_class[t_class['PRODUCT_CODE'] == 'A_31']\n",
        "t_class_t = t_class[t_class['PRODUCT_CODE'] != 'A_31']\n",
        "t_class_a = t_class_a['Y_Class']\n",
        "t_class_t = t_class_t['Y_Class']\n",
        "\n",
        "train_a_y = train_y[train_y['PRODUCT_CODE'] == 'A_31']\n",
        "train_t_y = train_y[train_x['PRODUCT_CODE'] != 'A_31']\n",
        "train_a_y = train_a_y['Y_Class']\n",
        "train_t_y = train_t_y['Y_Class']\n",
        "\n",
        "\n",
        "# train_a.drop(a_na_col, axis = 1, inplace = True)\n",
        "# train_t.drop(t_na_col, axis = 1, inplace = True)\n",
        "# train_o.drop(o_na_col, axis = 1, inplace = True)\n",
        "print(f\"Shape of A_31/T_31 : {train_a.shape} {train_t.shape}\")"
      ],
      "metadata": {
        "colab": {
          "base_uri": "https://localhost:8080/"
        },
        "id": "rriov3iy0k2x",
        "outputId": "3bca9783-81b1-4381-c57a-92230d130807"
      },
      "execution_count": null,
      "outputs": [
        {
          "output_type": "stream",
          "name": "stdout",
          "text": [
            "Shape of A_31/T_31 : (249, 2877) (349, 2877)\n"
          ]
        }
      ]
    },
    {
      "cell_type": "code",
      "source": [
        "col = train_x.columns\n",
        "na_a_col = []\n",
        "na_t_col = []\n",
        "for i in col:\n",
        "  if train_a[i].count() == 0:\n",
        "    na_a_col.append(i)\n",
        "  if train_t[i].count() == 0:\n",
        "    na_t_col.append(i)"
      ],
      "metadata": {
        "id": "xGVz0l_HU8lB"
      },
      "execution_count": null,
      "outputs": []
    },
    {
      "cell_type": "code",
      "source": [
        "a_col = []\n",
        "t_col = []\n",
        "\n",
        "for i in col:\n",
        "  if i == 'PRODUCT_CODE' or i == 'LINE':\n",
        "    continue\n",
        "  if i not in na_a_col:\n",
        "    a_col.append(i)\n",
        "  if i not in na_t_col:\n",
        "    t_col.append(i)\n",
        "\n",
        "print(len(a_col), len(t_col))\n",
        "print(a_col)"
      ],
      "metadata": {
        "colab": {
          "base_uri": "https://localhost:8080/"
        },
        "id": "3xN-U7r7U3aT",
        "outputId": "a236a5db-8569-4349-f2ba-07be40d4cada"
      },
      "execution_count": null,
      "outputs": [
        {
          "output_type": "stream",
          "name": "stdout",
          "text": [
            "2116 677\n",
            "['X_128', 'X_129', 'X_130', 'X_131', 'X_132', 'X_133', 'X_134', 'X_135', 'X_136', 'X_137', 'X_138', 'X_139', 'X_140', 'X_141', 'X_142', 'X_143', 'X_144', 'X_145', 'X_146', 'X_147', 'X_148', 'X_149', 'X_150', 'X_151', 'X_152', 'X_153', 'X_154', 'X_155', 'X_156', 'X_157', 'X_158', 'X_159', 'X_160', 'X_161', 'X_162', 'X_163', 'X_164', 'X_165', 'X_166', 'X_167', 'X_168', 'X_169', 'X_170', 'X_171', 'X_172', 'X_173', 'X_174', 'X_175', 'X_176', 'X_177', 'X_178', 'X_179', 'X_180', 'X_181', 'X_182', 'X_183', 'X_184', 'X_185', 'X_186', 'X_187', 'X_188', 'X_189', 'X_190', 'X_191', 'X_192', 'X_193', 'X_194', 'X_195', 'X_196', 'X_197', 'X_198', 'X_199', 'X_200', 'X_201', 'X_202', 'X_203', 'X_204', 'X_205', 'X_206', 'X_207', 'X_208', 'X_209', 'X_210', 'X_211', 'X_212', 'X_213', 'X_214', 'X_215', 'X_216', 'X_217', 'X_218', 'X_219', 'X_220', 'X_221', 'X_222', 'X_223', 'X_224', 'X_225', 'X_226', 'X_227', 'X_228', 'X_229', 'X_230', 'X_231', 'X_232', 'X_233', 'X_234', 'X_235', 'X_236', 'X_237', 'X_238', 'X_239', 'X_240', 'X_241', 'X_242', 'X_243', 'X_244', 'X_245', 'X_246', 'X_247', 'X_248', 'X_249', 'X_250', 'X_251', 'X_252', 'X_253', 'X_254', 'X_255', 'X_256', 'X_257', 'X_258', 'X_259', 'X_260', 'X_261', 'X_262', 'X_263', 'X_264', 'X_265', 'X_266', 'X_267', 'X_268', 'X_269', 'X_270', 'X_271', 'X_272', 'X_273', 'X_274', 'X_275', 'X_276', 'X_277', 'X_278', 'X_279', 'X_280', 'X_281', 'X_282', 'X_283', 'X_284', 'X_285', 'X_286', 'X_287', 'X_288', 'X_289', 'X_290', 'X_291', 'X_292', 'X_293', 'X_294', 'X_295', 'X_296', 'X_297', 'X_298', 'X_299', 'X_300', 'X_301', 'X_302', 'X_303', 'X_304', 'X_305', 'X_306', 'X_307', 'X_308', 'X_309', 'X_310', 'X_311', 'X_312', 'X_313', 'X_314', 'X_315', 'X_316', 'X_317', 'X_318', 'X_319', 'X_320', 'X_321', 'X_322', 'X_323', 'X_324', 'X_325', 'X_326', 'X_327', 'X_328', 'X_329', 'X_330', 'X_331', 'X_332', 'X_333', 'X_334', 'X_335', 'X_336', 'X_337', 'X_338', 'X_339', 'X_340', 'X_341', 'X_342', 'X_343', 'X_344', 'X_345', 'X_346', 'X_347', 'X_348', 'X_349', 'X_350', 'X_351', 'X_352', 'X_353', 'X_354', 'X_355', 'X_356', 'X_357', 'X_358', 'X_359', 'X_360', 'X_361', 'X_362', 'X_363', 'X_364', 'X_365', 'X_366', 'X_367', 'X_368', 'X_369', 'X_370', 'X_371', 'X_372', 'X_373', 'X_374', 'X_375', 'X_376', 'X_377', 'X_378', 'X_379', 'X_380', 'X_381', 'X_382', 'X_383', 'X_938', 'X_939', 'X_940', 'X_941', 'X_942', 'X_943', 'X_944', 'X_945', 'X_946', 'X_947', 'X_948', 'X_949', 'X_950', 'X_951', 'X_952', 'X_953', 'X_954', 'X_955', 'X_956', 'X_957', 'X_958', 'X_959', 'X_960', 'X_961', 'X_962', 'X_963', 'X_964', 'X_965', 'X_966', 'X_967', 'X_968', 'X_969', 'X_970', 'X_971', 'X_972', 'X_973', 'X_974', 'X_975', 'X_976', 'X_977', 'X_978', 'X_979', 'X_980', 'X_981', 'X_982', 'X_983', 'X_984', 'X_985', 'X_986', 'X_987', 'X_988', 'X_989', 'X_990', 'X_991', 'X_992', 'X_993', 'X_994', 'X_995', 'X_996', 'X_997', 'X_998', 'X_999', 'X_1000', 'X_1001', 'X_1002', 'X_1003', 'X_1004', 'X_1005', 'X_1006', 'X_1007', 'X_1008', 'X_1009', 'X_1010', 'X_1011', 'X_1012', 'X_1013', 'X_1014', 'X_1015', 'X_1016', 'X_1017', 'X_1018', 'X_1019', 'X_1020', 'X_1021', 'X_1022', 'X_1023', 'X_1024', 'X_1025', 'X_1026', 'X_1027', 'X_1028', 'X_1029', 'X_1030', 'X_1031', 'X_1032', 'X_1033', 'X_1034', 'X_1035', 'X_1036', 'X_1037', 'X_1038', 'X_1039', 'X_1040', 'X_1041', 'X_1042', 'X_1043', 'X_1044', 'X_1045', 'X_1046', 'X_1047', 'X_1048', 'X_1049', 'X_1050', 'X_1051', 'X_1052', 'X_1053', 'X_1054', 'X_1055', 'X_1056', 'X_1057', 'X_1058', 'X_1059', 'X_1060', 'X_1061', 'X_1062', 'X_1063', 'X_1064', 'X_1065', 'X_1066', 'X_1067', 'X_1068', 'X_1069', 'X_1070', 'X_1071', 'X_1072', 'X_1073', 'X_1074', 'X_1075', 'X_1076', 'X_1077', 'X_1078', 'X_1079', 'X_1080', 'X_1081', 'X_1082', 'X_1083', 'X_1084', 'X_1085', 'X_1086', 'X_1087', 'X_1088', 'X_1089', 'X_1090', 'X_1091', 'X_1092', 'X_1093', 'X_1094', 'X_1095', 'X_1096', 'X_1097', 'X_1098', 'X_1099', 'X_1100', 'X_1101', 'X_1102', 'X_1103', 'X_1104', 'X_1105', 'X_1106', 'X_1107', 'X_1108', 'X_1109', 'X_1110', 'X_1111', 'X_1112', 'X_1113', 'X_1114', 'X_1115', 'X_1116', 'X_1117', 'X_1118', 'X_1119', 'X_1120', 'X_1121', 'X_1122', 'X_1123', 'X_1124', 'X_1125', 'X_1126', 'X_1127', 'X_1128', 'X_1129', 'X_1130', 'X_1131', 'X_1132', 'X_1133', 'X_1134', 'X_1135', 'X_1136', 'X_1137', 'X_1138', 'X_1139', 'X_1140', 'X_1141', 'X_1142', 'X_1143', 'X_1144', 'X_1145', 'X_1146', 'X_1147', 'X_1148', 'X_1149', 'X_1150', 'X_1151', 'X_1152', 'X_1153', 'X_1154', 'X_1155', 'X_1156', 'X_1157', 'X_1158', 'X_1159', 'X_1160', 'X_1161', 'X_1162', 'X_1163', 'X_1164', 'X_1165', 'X_1166', 'X_1167', 'X_1168', 'X_1169', 'X_1170', 'X_1171', 'X_1172', 'X_1173', 'X_1174', 'X_1175', 'X_1176', 'X_1177', 'X_1178', 'X_1179', 'X_1180', 'X_1181', 'X_1182', 'X_1183', 'X_1184', 'X_1185', 'X_1186', 'X_1187', 'X_1188', 'X_1189', 'X_1190', 'X_1191', 'X_1192', 'X_1193', 'X_1194', 'X_1195', 'X_1196', 'X_1197', 'X_1198', 'X_1199', 'X_1200', 'X_1201', 'X_1202', 'X_1203', 'X_1204', 'X_1205', 'X_1206', 'X_1207', 'X_1208', 'X_1209', 'X_1210', 'X_1211', 'X_1212', 'X_1213', 'X_1214', 'X_1215', 'X_1216', 'X_1217', 'X_1218', 'X_1219', 'X_1220', 'X_1221', 'X_1222', 'X_1223', 'X_1224', 'X_1225', 'X_1226', 'X_1227', 'X_1228', 'X_1229', 'X_1230', 'X_1231', 'X_1232', 'X_1233', 'X_1234', 'X_1235', 'X_1236', 'X_1237', 'X_1238', 'X_1239', 'X_1240', 'X_1241', 'X_1242', 'X_1243', 'X_1244', 'X_1245', 'X_1246', 'X_1247', 'X_1248', 'X_1249', 'X_1250', 'X_1251', 'X_1252', 'X_1253', 'X_1254', 'X_1255', 'X_1256', 'X_1257', 'X_1258', 'X_1259', 'X_1260', 'X_1261', 'X_1262', 'X_1263', 'X_1264', 'X_1265', 'X_1266', 'X_1267', 'X_1268', 'X_1269', 'X_1270', 'X_1271', 'X_1272', 'X_1273', 'X_1274', 'X_1275', 'X_1276', 'X_1277', 'X_1278', 'X_1279', 'X_1280', 'X_1281', 'X_1282', 'X_1283', 'X_1284', 'X_1285', 'X_1286', 'X_1287', 'X_1288', 'X_1289', 'X_1290', 'X_1291', 'X_1292', 'X_1293', 'X_1294', 'X_1295', 'X_1296', 'X_1297', 'X_1298', 'X_1299', 'X_1300', 'X_1301', 'X_1302', 'X_1303', 'X_1304', 'X_1305', 'X_1306', 'X_1307', 'X_1308', 'X_1309', 'X_1310', 'X_1311', 'X_1312', 'X_1313', 'X_1314', 'X_1315', 'X_1316', 'X_1317', 'X_1318', 'X_1319', 'X_1320', 'X_1321', 'X_1322', 'X_1323', 'X_1324', 'X_1325', 'X_1326', 'X_1327', 'X_1328', 'X_1329', 'X_1330', 'X_1331', 'X_1332', 'X_1333', 'X_1334', 'X_1335', 'X_1336', 'X_1337', 'X_1338', 'X_1339', 'X_1340', 'X_1341', 'X_1342', 'X_1343', 'X_1344', 'X_1345', 'X_1346', 'X_1347', 'X_1348', 'X_1349', 'X_1350', 'X_1351', 'X_1352', 'X_1353', 'X_1354', 'X_1355', 'X_1356', 'X_1357', 'X_1358', 'X_1359', 'X_1360', 'X_1361', 'X_1362', 'X_1363', 'X_1364', 'X_1365', 'X_1366', 'X_1367', 'X_1368', 'X_1369', 'X_1370', 'X_1371', 'X_1372', 'X_1373', 'X_1374', 'X_1375', 'X_1376', 'X_1377', 'X_1378', 'X_1379', 'X_1380', 'X_1381', 'X_1382', 'X_1383', 'X_1384', 'X_1385', 'X_1386', 'X_1387', 'X_1388', 'X_1389', 'X_1390', 'X_1391', 'X_1392', 'X_1393', 'X_1394', 'X_1395', 'X_1396', 'X_1397', 'X_1398', 'X_1399', 'X_1400', 'X_1401', 'X_1402', 'X_1403', 'X_1404', 'X_1405', 'X_1406', 'X_1407', 'X_1408', 'X_1409', 'X_1410', 'X_1411', 'X_1412', 'X_1413', 'X_1414', 'X_1415', 'X_1416', 'X_1417', 'X_1418', 'X_1419', 'X_1420', 'X_1421', 'X_1422', 'X_1423', 'X_1424', 'X_1425', 'X_1426', 'X_1427', 'X_1428', 'X_1429', 'X_1430', 'X_1431', 'X_1432', 'X_1433', 'X_1434', 'X_1435', 'X_1436', 'X_1437', 'X_1438', 'X_1439', 'X_1440', 'X_1441', 'X_1442', 'X_1443', 'X_1444', 'X_1445', 'X_1446', 'X_1447', 'X_1448', 'X_1449', 'X_1450', 'X_1451', 'X_1452', 'X_1453', 'X_1454', 'X_1455', 'X_1456', 'X_1457', 'X_1458', 'X_1459', 'X_1460', 'X_1461', 'X_1462', 'X_1463', 'X_1464', 'X_1465', 'X_1466', 'X_1467', 'X_1468', 'X_1469', 'X_1470', 'X_1471', 'X_1472', 'X_1473', 'X_1474', 'X_1475', 'X_1476', 'X_1477', 'X_1478', 'X_1479', 'X_1480', 'X_1481', 'X_1482', 'X_1483', 'X_1484', 'X_1485', 'X_1486', 'X_1487', 'X_1488', 'X_1489', 'X_1490', 'X_1491', 'X_1492', 'X_1493', 'X_1494', 'X_1495', 'X_1496', 'X_1497', 'X_1498', 'X_1499', 'X_1500', 'X_1501', 'X_1502', 'X_1503', 'X_1504', 'X_1505', 'X_1506', 'X_1507', 'X_1508', 'X_1509', 'X_1510', 'X_1511', 'X_1512', 'X_1513', 'X_1514', 'X_1515', 'X_1516', 'X_1517', 'X_1518', 'X_1519', 'X_1520', 'X_1521', 'X_1522', 'X_1523', 'X_1524', 'X_1525', 'X_1526', 'X_1527', 'X_1528', 'X_1529', 'X_1530', 'X_1531', 'X_1532', 'X_1533', 'X_1534', 'X_1535', 'X_1536', 'X_1537', 'X_1538', 'X_1539', 'X_1540', 'X_1541', 'X_1542', 'X_1543', 'X_1544', 'X_1545', 'X_1546', 'X_1547', 'X_1548', 'X_1549', 'X_1550', 'X_1551', 'X_1552', 'X_1553', 'X_1554', 'X_1555', 'X_1556', 'X_1557', 'X_1558', 'X_1559', 'X_1560', 'X_1561', 'X_1562', 'X_1563', 'X_1564', 'X_1565', 'X_1566', 'X_1567', 'X_1568', 'X_1569', 'X_1570', 'X_1571', 'X_1572', 'X_1573', 'X_1574', 'X_1575', 'X_1576', 'X_1577', 'X_1578', 'X_1579', 'X_1580', 'X_1581', 'X_1582', 'X_1583', 'X_1584', 'X_1585', 'X_1586', 'X_1587', 'X_1588', 'X_1589', 'X_1590', 'X_1591', 'X_1592', 'X_1593', 'X_1594', 'X_1595', 'X_1596', 'X_1597', 'X_1598', 'X_1599', 'X_1600', 'X_1601', 'X_1602', 'X_1603', 'X_1604', 'X_1605', 'X_1606', 'X_1607', 'X_1608', 'X_1609', 'X_1610', 'X_1611', 'X_1612', 'X_1613', 'X_1614', 'X_1615', 'X_1616', 'X_1617', 'X_1618', 'X_1619', 'X_1620', 'X_1621', 'X_1622', 'X_1623', 'X_1624', 'X_1625', 'X_1626', 'X_1627', 'X_1628', 'X_1629', 'X_1630', 'X_1631', 'X_1632', 'X_1633', 'X_1634', 'X_1635', 'X_1636', 'X_1637', 'X_1638', 'X_1639', 'X_1640', 'X_1641', 'X_1642', 'X_1643', 'X_1644', 'X_1645', 'X_1646', 'X_1647', 'X_1648', 'X_1649', 'X_1650', 'X_1651', 'X_1652', 'X_1653', 'X_1654', 'X_1655', 'X_1656', 'X_1657', 'X_1658', 'X_1659', 'X_1660', 'X_1661', 'X_1662', 'X_1663', 'X_1664', 'X_1665', 'X_1666', 'X_1667', 'X_1668', 'X_1669', 'X_1670', 'X_1671', 'X_1672', 'X_1673', 'X_1674', 'X_1675', 'X_1676', 'X_1677', 'X_1678', 'X_1679', 'X_1680', 'X_1681', 'X_1682', 'X_1683', 'X_1684', 'X_1685', 'X_1686', 'X_1687', 'X_1688', 'X_1689', 'X_1690', 'X_1691', 'X_1692', 'X_1693', 'X_1694', 'X_1695', 'X_1696', 'X_1697', 'X_1698', 'X_1699', 'X_1700', 'X_1701', 'X_1702', 'X_1703', 'X_1704', 'X_1705', 'X_1706', 'X_1707', 'X_1708', 'X_1709', 'X_1710', 'X_1711', 'X_1712', 'X_1713', 'X_1714', 'X_1715', 'X_1716', 'X_1717', 'X_1718', 'X_1719', 'X_1720', 'X_1721', 'X_1722', 'X_1723', 'X_1724', 'X_1725', 'X_1726', 'X_1727', 'X_1728', 'X_1729', 'X_1730', 'X_1731', 'X_1732', 'X_1733', 'X_1734', 'X_1735', 'X_1736', 'X_1737', 'X_1738', 'X_1739', 'X_1740', 'X_1741', 'X_1742', 'X_1743', 'X_1744', 'X_1745', 'X_1746', 'X_1747', 'X_1748', 'X_1749', 'X_1750', 'X_1751', 'X_1752', 'X_1753', 'X_1754', 'X_1755', 'X_1756', 'X_1757', 'X_1758', 'X_1759', 'X_1760', 'X_1761', 'X_1762', 'X_1763', 'X_1764', 'X_1765', 'X_1766', 'X_1767', 'X_1768', 'X_1769', 'X_1770', 'X_1771', 'X_1772', 'X_1773', 'X_1774', 'X_1775', 'X_1776', 'X_1777', 'X_1778', 'X_1779', 'X_1780', 'X_1781', 'X_1782', 'X_1783', 'X_1784', 'X_1785', 'X_1786', 'X_1787', 'X_1788', 'X_1789', 'X_1790', 'X_1791', 'X_1792', 'X_1793', 'X_1794', 'X_1795', 'X_1796', 'X_1797', 'X_1798', 'X_1799', 'X_1800', 'X_1801', 'X_1802', 'X_1803', 'X_1804', 'X_1805', 'X_1806', 'X_1807', 'X_1808', 'X_1809', 'X_1810', 'X_1811', 'X_1812', 'X_1813', 'X_1814', 'X_1815', 'X_1816', 'X_1817', 'X_1818', 'X_1819', 'X_1820', 'X_1821', 'X_1822', 'X_1823', 'X_1824', 'X_1825', 'X_1826', 'X_1827', 'X_1828', 'X_1829', 'X_1830', 'X_1831', 'X_1832', 'X_1833', 'X_1834', 'X_1835', 'X_1836', 'X_1837', 'X_1838', 'X_1839', 'X_1840', 'X_1841', 'X_1842', 'X_1843', 'X_1844', 'X_1845', 'X_1846', 'X_1847', 'X_1848', 'X_1849', 'X_1850', 'X_1851', 'X_1852', 'X_1853', 'X_1854', 'X_1855', 'X_1856', 'X_1857', 'X_1858', 'X_1859', 'X_1860', 'X_1861', 'X_1862', 'X_1863', 'X_1864', 'X_1865', 'X_1866', 'X_1867', 'X_1868', 'X_1869', 'X_1870', 'X_1871', 'X_1872', 'X_1873', 'X_1874', 'X_1875', 'X_1876', 'X_1877', 'X_1878', 'X_1879', 'X_1880', 'X_1881', 'X_1882', 'X_1883', 'X_1884', 'X_1885', 'X_1886', 'X_1887', 'X_1888', 'X_1889', 'X_1890', 'X_1891', 'X_1892', 'X_1893', 'X_1894', 'X_1895', 'X_1896', 'X_1897', 'X_1898', 'X_1899', 'X_1900', 'X_1901', 'X_1902', 'X_1903', 'X_1904', 'X_1905', 'X_1906', 'X_1907', 'X_1908', 'X_1909', 'X_1910', 'X_1911', 'X_1912', 'X_1913', 'X_1914', 'X_1915', 'X_1916', 'X_1917', 'X_1918', 'X_1919', 'X_1920', 'X_1921', 'X_1922', 'X_1923', 'X_1924', 'X_1925', 'X_1926', 'X_1927', 'X_1928', 'X_1929', 'X_1930', 'X_1931', 'X_1932', 'X_1933', 'X_1934', 'X_1935', 'X_1936', 'X_1937', 'X_1938', 'X_1939', 'X_1940', 'X_1941', 'X_1942', 'X_1943', 'X_1944', 'X_1945', 'X_1946', 'X_1947', 'X_1948', 'X_1949', 'X_1950', 'X_1951', 'X_1952', 'X_1953', 'X_1954', 'X_1955', 'X_1956', 'X_1957', 'X_1958', 'X_1959', 'X_1960', 'X_1961', 'X_1962', 'X_1963', 'X_1964', 'X_1965', 'X_1966', 'X_1967', 'X_1968', 'X_1969', 'X_1970', 'X_1971', 'X_1972', 'X_1973', 'X_1974', 'X_1975', 'X_1976', 'X_1977', 'X_1978', 'X_1979', 'X_1980', 'X_1981', 'X_1982', 'X_1983', 'X_1984', 'X_1985', 'X_1986', 'X_1987', 'X_1988', 'X_1989', 'X_1990', 'X_1991', 'X_1992', 'X_1993', 'X_1994', 'X_1995', 'X_1996', 'X_1997', 'X_1998', 'X_1999', 'X_2000', 'X_2001', 'X_2002', 'X_2003', 'X_2004', 'X_2005', 'X_2006', 'X_2007', 'X_2008', 'X_2009', 'X_2010', 'X_2011', 'X_2012', 'X_2013', 'X_2014', 'X_2015', 'X_2016', 'X_2017', 'X_2018', 'X_2019', 'X_2020', 'X_2021', 'X_2022', 'X_2023', 'X_2024', 'X_2025', 'X_2026', 'X_2027', 'X_2028', 'X_2029', 'X_2030', 'X_2031', 'X_2032', 'X_2033', 'X_2034', 'X_2035', 'X_2036', 'X_2037', 'X_2038', 'X_2039', 'X_2040', 'X_2041', 'X_2042', 'X_2043', 'X_2044', 'X_2045', 'X_2046', 'X_2047', 'X_2048', 'X_2049', 'X_2050', 'X_2051', 'X_2052', 'X_2053', 'X_2054', 'X_2055', 'X_2056', 'X_2057', 'X_2058', 'X_2059', 'X_2060', 'X_2061', 'X_2062', 'X_2063', 'X_2064', 'X_2065', 'X_2066', 'X_2067', 'X_2068', 'X_2069', 'X_2070', 'X_2071', 'X_2072', 'X_2073', 'X_2074', 'X_2075', 'X_2076', 'X_2077', 'X_2078', 'X_2079', 'X_2080', 'X_2081', 'X_2082', 'X_2083', 'X_2084', 'X_2085', 'X_2086', 'X_2087', 'X_2088', 'X_2089', 'X_2090', 'X_2091', 'X_2092', 'X_2093', 'X_2094', 'X_2095', 'X_2096', 'X_2097', 'X_2098', 'X_2099', 'X_2100', 'X_2101', 'X_2102', 'X_2103', 'X_2104', 'X_2105', 'X_2106', 'X_2107', 'X_2108', 'X_2109', 'X_2110', 'X_2111', 'X_2112', 'X_2113', 'X_2114', 'X_2115', 'X_2116', 'X_2117', 'X_2118', 'X_2119', 'X_2120', 'X_2121', 'X_2122', 'X_2123', 'X_2124', 'X_2125', 'X_2126', 'X_2127', 'X_2128', 'X_2129', 'X_2130', 'X_2131', 'X_2132', 'X_2133', 'X_2134', 'X_2135', 'X_2136', 'X_2137', 'X_2138', 'X_2139', 'X_2140', 'X_2141', 'X_2142', 'X_2143', 'X_2144', 'X_2145', 'X_2146', 'X_2147', 'X_2148', 'X_2149', 'X_2150', 'X_2151', 'X_2152', 'X_2153', 'X_2154', 'X_2155', 'X_2156', 'X_2157', 'X_2158', 'X_2159', 'X_2160', 'X_2161', 'X_2162', 'X_2163', 'X_2164', 'X_2165', 'X_2166', 'X_2167', 'X_2168', 'X_2169', 'X_2170', 'X_2171', 'X_2172', 'X_2173', 'X_2174', 'X_2175', 'X_2176', 'X_2177', 'X_2178', 'X_2179', 'X_2180', 'X_2181', 'X_2182', 'X_2183', 'X_2184', 'X_2185', 'X_2186', 'X_2187', 'X_2188', 'X_2189', 'X_2190', 'X_2191', 'X_2192', 'X_2193', 'X_2194', 'X_2195', 'X_2196', 'X_2197', 'X_2198', 'X_2199', 'X_2200', 'X_2201', 'X_2202', 'X_2203', 'X_2204', 'X_2205', 'X_2206', 'X_2207', 'X_2208', 'X_2209', 'X_2210', 'X_2211', 'X_2212', 'X_2213', 'X_2214', 'X_2215', 'X_2216', 'X_2217', 'X_2218', 'X_2219', 'X_2220', 'X_2221', 'X_2222', 'X_2223', 'X_2224', 'X_2225', 'X_2226', 'X_2227', 'X_2228', 'X_2229', 'X_2230', 'X_2231', 'X_2232', 'X_2233', 'X_2234', 'X_2235', 'X_2236', 'X_2237', 'X_2238', 'X_2239', 'X_2240', 'X_2241', 'X_2242', 'X_2243', 'X_2244', 'X_2245', 'X_2246', 'X_2247', 'X_2248', 'X_2249', 'X_2250', 'X_2251', 'X_2252', 'X_2253', 'X_2254', 'X_2255', 'X_2256', 'X_2257', 'X_2258', 'X_2259', 'X_2260', 'X_2261', 'X_2262', 'X_2263', 'X_2264', 'X_2265', 'X_2266', 'X_2267', 'X_2268', 'X_2269', 'X_2270', 'X_2271', 'X_2272', 'X_2273', 'X_2274', 'X_2275', 'X_2276', 'X_2277', 'X_2278', 'X_2279', 'X_2280', 'X_2281', 'X_2282', 'X_2283', 'X_2284', 'X_2285', 'X_2286', 'X_2287', 'X_2288', 'X_2289', 'X_2290', 'X_2291', 'X_2292', 'X_2293', 'X_2294', 'X_2295', 'X_2296', 'X_2297', 'X_2298', 'X_2299', 'X_2300', 'X_2301', 'X_2302', 'X_2303', 'X_2304', 'X_2305', 'X_2306', 'X_2307', 'X_2308', 'X_2309', 'X_2310', 'X_2311', 'X_2312', 'X_2313', 'X_2314', 'X_2315', 'X_2316', 'X_2317', 'X_2318', 'X_2319', 'X_2320', 'X_2321', 'X_2322', 'X_2323', 'X_2324', 'X_2325', 'X_2326', 'X_2327', 'X_2328', 'X_2329', 'X_2330', 'X_2331', 'X_2332', 'X_2333', 'X_2334', 'X_2335', 'X_2336', 'X_2337', 'X_2338', 'X_2339', 'X_2340', 'X_2341', 'X_2342', 'X_2343', 'X_2344', 'X_2345', 'X_2346', 'X_2347', 'X_2348', 'X_2349', 'X_2350', 'X_2351', 'X_2352', 'X_2353', 'X_2354', 'X_2355', 'X_2356', 'X_2357', 'X_2358', 'X_2359', 'X_2360', 'X_2361', 'X_2362', 'X_2363', 'X_2364', 'X_2365', 'X_2366', 'X_2367', 'X_2368', 'X_2369', 'X_2370', 'X_2371', 'X_2372', 'X_2373', 'X_2374', 'X_2375', 'X_2376', 'X_2377', 'X_2378', 'X_2379', 'X_2380', 'X_2381', 'X_2382', 'X_2383', 'X_2384', 'X_2385', 'X_2386', 'X_2387', 'X_2388', 'X_2389', 'X_2390', 'X_2391', 'X_2392', 'X_2393', 'X_2394', 'X_2395', 'X_2396', 'X_2397', 'X_2398', 'X_2399', 'X_2400', 'X_2401', 'X_2402', 'X_2403', 'X_2404', 'X_2405', 'X_2406', 'X_2407', 'X_2408', 'X_2409', 'X_2410', 'X_2411', 'X_2412', 'X_2413', 'X_2414', 'X_2415', 'X_2416', 'X_2417', 'X_2418', 'X_2419', 'X_2420', 'X_2421', 'X_2422', 'X_2423', 'X_2424', 'X_2425', 'X_2426', 'X_2427', 'X_2428', 'X_2429', 'X_2430', 'X_2431', 'X_2432', 'X_2433', 'X_2434', 'X_2435', 'X_2436', 'X_2437', 'X_2438', 'X_2439', 'X_2440', 'X_2441', 'X_2442', 'X_2443', 'X_2444', 'X_2445', 'X_2446', 'X_2447', 'X_2448', 'X_2449', 'X_2450', 'X_2451', 'X_2452', 'X_2453', 'X_2454', 'X_2455', 'X_2456', 'X_2457', 'X_2458', 'X_2459', 'X_2460', 'X_2461', 'X_2462', 'X_2463', 'X_2464', 'X_2465', 'X_2466', 'X_2467', 'X_2468', 'X_2469', 'X_2470', 'X_2471', 'X_2472', 'X_2473', 'X_2474', 'X_2475', 'X_2476', 'X_2477', 'X_2478', 'X_2479', 'X_2480', 'X_2481', 'X_2482', 'X_2483', 'X_2484', 'X_2485', 'X_2486', 'X_2487', 'X_2488', 'X_2489', 'X_2490', 'X_2491', 'X_2492', 'X_2493', 'X_2494', 'X_2495', 'X_2496', 'X_2497', 'X_2498', 'X_2499', 'X_2500', 'X_2501', 'X_2502', 'X_2503', 'X_2504', 'X_2505', 'X_2506', 'X_2507', 'X_2508', 'X_2509', 'X_2510', 'X_2511', 'X_2512', 'X_2513', 'X_2514', 'X_2515', 'X_2516', 'X_2517', 'X_2518', 'X_2519', 'X_2520', 'X_2521', 'X_2522', 'X_2523', 'X_2524', 'X_2525', 'X_2526', 'X_2527', 'X_2528', 'X_2529', 'X_2530', 'X_2531', 'X_2532', 'X_2533', 'X_2534', 'X_2535', 'X_2536', 'X_2537', 'X_2538', 'X_2539', 'X_2540', 'X_2541', 'X_2542', 'X_2543', 'X_2544', 'X_2545', 'X_2546', 'X_2547', 'X_2548', 'X_2549', 'X_2550', 'X_2551', 'X_2552', 'X_2553', 'X_2554', 'X_2555', 'X_2556', 'X_2557', 'X_2558', 'X_2559', 'X_2560', 'X_2561', 'X_2562', 'X_2563', 'X_2564', 'X_2565', 'X_2566', 'X_2567', 'X_2568', 'X_2569', 'X_2570', 'X_2571', 'X_2572', 'X_2573', 'X_2574', 'X_2575', 'X_2576', 'X_2577', 'X_2578', 'X_2579', 'X_2580', 'X_2581', 'X_2582', 'X_2583', 'X_2584', 'X_2585', 'X_2586', 'X_2587', 'X_2588', 'X_2589', 'X_2590', 'X_2591', 'X_2592', 'X_2593', 'X_2594', 'X_2595', 'X_2596', 'X_2597', 'X_2598', 'X_2599', 'X_2600', 'X_2601', 'X_2602', 'X_2603', 'X_2604', 'X_2605', 'X_2606', 'X_2607', 'X_2608', 'X_2609', 'X_2610', 'X_2611', 'X_2612', 'X_2613', 'X_2614', 'X_2615', 'X_2616', 'X_2617', 'X_2618', 'X_2619', 'X_2620', 'X_2621', 'X_2622', 'X_2623', 'X_2624', 'X_2625', 'X_2626', 'X_2627', 'X_2700', 'X_2701', 'X_2702', 'X_2703', 'X_2704', 'X_2705', 'X_2706', 'X_2707', 'X_2708', 'X_2709', 'X_2710', 'X_2711', 'X_2712', 'X_2713', 'X_2714', 'X_2715', 'X_2716', 'X_2717', 'X_2718', 'X_2719', 'X_2720', 'X_2721', 'X_2722', 'X_2723', 'X_2724', 'X_2725', 'X_2726', 'X_2727', 'X_2728', 'X_2729', 'X_2730', 'X_2731', 'X_2732', 'X_2733', 'X_2734', 'X_2735', 'X_2736', 'X_2737', 'X_2738', 'X_2739', 'X_2740', 'X_2741', 'X_2742', 'X_2743', 'X_2744', 'X_2745', 'X_2746', 'X_2747', 'X_2748', 'X_2749', 'X_2750', 'X_2751', 'X_2752', 'X_2753', 'X_2754', 'X_2755', 'X_2756', 'X_2757', 'X_2758', 'X_2759', 'X_2760', 'X_2761', 'X_2762', 'X_2763', 'X_2764', 'X_2765', 'X_2766', 'X_2767', 'X_2768', 'X_2769', 'X_2770', 'X_2771', 'X_2772', 'X_2773', 'X_2774', 'X_2775', 'X_2776', 'X_2777', 'X_2778', 'X_2779', 'X_2780', 'X_2781', 'X_2782', 'X_2783', 'X_2784', 'X_2785', 'X_2786', 'X_2787', 'X_2788', 'X_2789', 'X_2790', 'X_2791', 'X_2792', 'X_2793', 'X_2794', 'X_2795', 'X_2796', 'X_2797', 'X_2798', 'X_2799', 'X_2800', 'X_2801', 'X_2802', 'X_2803', 'X_2804', 'X_2805', 'X_2806', 'X_2807', 'X_2808', 'X_2809', 'X_2810', 'X_2811', 'X_2812', 'X_2813', 'X_2814', 'X_2815', 'X_2816', 'X_2817', 'X_2818', 'X_2819', 'X_2820', 'X_2821', 'X_2822', 'X_2823', 'X_2824', 'X_2825', 'X_2826', 'X_2827', 'X_2828', 'X_2829', 'X_2830', 'X_2831', 'X_2832', 'X_2833', 'X_2834', 'X_2835', 'X_2836', 'X_2837', 'X_2839', 'X_2840', 'X_2841', 'X_2842', 'X_2843', 'X_2845', 'X_2846', 'X_2847', 'X_2848', 'X_2849', 'X_2850', 'X_2851', 'X_2852', 'X_2853', 'X_2854', 'X_2855', 'X_2856', 'X_2857', 'X_2858', 'X_2859', 'X_2860', 'X_2861', 'X_2862', 'X_2863', 'X_2864', 'X_2865', 'X_2866', 'X_2867', 'X_2868', 'X_2869', 'X_2870', 'X_2871']\n"
          ]
        }
      ]
    },
    {
      "cell_type": "code",
      "source": [
        "comm_na_col = []\n",
        "for i in na_a_col:\n",
        "  if i in na_t_col:\n",
        "   comm_na_col.append(i)\n",
        "print(len(comm_na_col))"
      ],
      "metadata": {
        "colab": {
          "base_uri": "https://localhost:8080/"
        },
        "id": "vGIdqcsVU6Lk",
        "outputId": "7fe55d20-2bc6-4a52-e0ea-1e548fef3331"
      },
      "execution_count": null,
      "outputs": [
        {
          "output_type": "stream",
          "name": "stdout",
          "text": [
            "82\n"
          ]
        }
      ]
    },
    {
      "cell_type": "code",
      "source": [
        "train_a.drop(comm_na_col, axis = 1, inplace = True)\n",
        "train_t.drop(comm_na_col, axis = 1, inplace = True)"
      ],
      "metadata": {
        "colab": {
          "base_uri": "https://localhost:8080/"
        },
        "id": "Brxcb-XGVvxg",
        "outputId": "f8c0c994-4569-462a-f24e-28da5aa22a2f"
      },
      "execution_count": null,
      "outputs": [
        {
          "output_type": "stream",
          "name": "stderr",
          "text": [
            "/usr/local/lib/python3.8/dist-packages/pandas/core/frame.py:4906: SettingWithCopyWarning: \n",
            "A value is trying to be set on a copy of a slice from a DataFrame\n",
            "\n",
            "See the caveats in the documentation: https://pandas.pydata.org/pandas-docs/stable/user_guide/indexing.html#returning-a-view-versus-a-copy\n",
            "  return super().drop(\n"
          ]
        }
      ]
    },
    {
      "cell_type": "code",
      "source": [
        "train_a.drop(t_col, axis = 1, inplace = True)\n",
        "train_t.drop(a_col,axis = 1, inplace = True)"
      ],
      "metadata": {
        "id": "1INlTuuIV5yH"
      },
      "execution_count": null,
      "outputs": []
    },
    {
      "cell_type": "code",
      "source": [
        "print(len(train_a.columns))\n",
        "print(len(train_t.columns))"
      ],
      "metadata": {
        "colab": {
          "base_uri": "https://localhost:8080/"
        },
        "id": "ubKPdIMnWDEk",
        "outputId": "a446d621-075e-4496-8856-18cf2986a996"
      },
      "execution_count": null,
      "outputs": [
        {
          "output_type": "stream",
          "name": "stdout",
          "text": [
            "2118\n",
            "679\n"
          ]
        }
      ]
    },
    {
      "cell_type": "code",
      "source": [
        "train_a = train_a.fillna(0)\n",
        "train_t = train_t.fillna(0)"
      ],
      "metadata": {
        "id": "oPOeb7Es3qLl"
      },
      "execution_count": null,
      "outputs": []
    },
    {
      "cell_type": "code",
      "source": [
        "# qualitative to quantitative\n",
        "qual_col = ['LINE', 'PRODUCT_CODE']\n",
        "train_total = [train_a, train_t]\n",
        "for k in range(2):\n",
        "  for i in qual_col:\n",
        "      le = LabelEncoder()\n",
        "      le = le.fit(train_total[k][i])\n",
        "      train_total[k][i] = le.transform(train_total[k][i])\n",
        "\n",
        "      # for label in np.unique(test_x[i]): \n",
        "      #     if label not in le.classes_: \n",
        "      #         le.classes_ = np.append(le.classes_, label)\n",
        "      # test_x[i] = le.transform(test_x[i]) \n",
        "  print('Done.')"
      ],
      "metadata": {
        "colab": {
          "base_uri": "https://localhost:8080/"
        },
        "id": "oXZzpoZv3uDt",
        "outputId": "324e50ee-4f85-4fb9-e8ee-7c085f2cd151"
      },
      "execution_count": null,
      "outputs": [
        {
          "output_type": "stream",
          "name": "stdout",
          "text": [
            "Done.\n",
            "Done.\n"
          ]
        }
      ]
    },
    {
      "cell_type": "code",
      "source": [
        "test_a = train_a[200:]\n",
        "test_a_y = train_a_y[200:]\n",
        "train_a = train_a[:200]\n",
        "train_a_y = train_a_y[:200]\n",
        "\n",
        "test_t = train_t[300:]\n",
        "test_t_y = train_t_y[300:]\n",
        "train_t = train_t[:300]\n",
        "train_t_y = train_t_y[:300]"
      ],
      "metadata": {
        "id": "TRtU7IfU32ZM"
      },
      "execution_count": null,
      "outputs": []
    },
    {
      "cell_type": "code",
      "source": [
        "class modelA(nn.Module):\n",
        "  def __init__(self, input_size, output_size, hidden_size):\n",
        "    super(modelA,self).__init__()\n",
        "\n",
        "    self.input_size = input_size\n",
        "    self.output_size = output_size\n",
        "\n",
        "    self.linear = nn.Linear(input_size,hidden_size)\n",
        "    self.linear2 = nn.Linear(hidden_size, hidden_size)\n",
        "    self.fc = nn.Linear(hidden_size, output_size)\n",
        "\n",
        "    self.softmax = nn.Softmax(dim = 0)\n",
        "    self.relu = nn.ReLU()\n",
        "\n",
        "  def forward(self, x):\n",
        "    out = self.linear(x)\n",
        "    out = self.relu(out)\n",
        "    out = self.linear2(out)\n",
        "    out = self.relu(out)\n",
        "    out = self.fc(out)\n",
        "    return out"
      ],
      "metadata": {
        "id": "qgy6Y0fykEDd"
      },
      "execution_count": null,
      "outputs": []
    },
    {
      "cell_type": "code",
      "source": [
        "\n",
        "#GPU 체크\n",
        "is_cuda = torch.cuda.is_available()\n",
        "if is_cuda:\n",
        "  device = torch.device(\"cuda\")\n",
        "  print(\"GPU is available\")\n",
        "else:\n",
        "  device = torch.device(\"cpu\")\n",
        "  print(\"CPU is availalbe\")\n",
        "     "
      ],
      "metadata": {
        "colab": {
          "base_uri": "https://localhost:8080/"
        },
        "id": "YLnkk0qcqGDV",
        "outputId": "34ca0f7d-0d07-4167-9db0-97c236208f74"
      },
      "execution_count": null,
      "outputs": [
        {
          "output_type": "stream",
          "name": "stdout",
          "text": [
            "GPU is available\n"
          ]
        }
      ]
    },
    {
      "cell_type": "code",
      "source": [
        "# RF_a = RandomForestClassifier(random_state=37).fit(train_a, train_a_y)\n",
        "# RF_t = RandomForestClassifier(random_state=37).fit(train_t, train_t_y)\n",
        "\n",
        "# RF_a = RandomForestClassifier(n_estimators = 2000, random_state=37, max_depth = 45).fit(train_a, train_a_y)\n",
        "# RF_t = RandomForestClassifier(n_estimators = 2000,random_state=37, max_depth = 45).fit(train_t, train_t_y)\n",
        "\n",
        "\n",
        "# RF_a = DecisionTreeClassifier(random_state=37).fit(train_a, train_a_y)\n",
        "# RF_t = DecisionTreeClassifier(random_state=37).fit(train_t, train_t_y)\n",
        "\n",
        "# RF_a = svm.SVC(random_state=37).fit(train_a, train_a_y)\n",
        "# RF_t = svm.SVC(random_state=37).fit(train_t, train_t_y)\n",
        "\n",
        "# RF_a = SGDClassifier(random_state=37).fit(train_a, train_a_y)\n",
        "# RF_t = SGDClassifier(random_state=37).fit(train_t, train_t_y)\n",
        "\n",
        "# RF_a = LogisticRegression(random_state=37).fit(train_a, train_a_y)\n",
        "# RF_t = LogisticRegression(random_state=37).fit(train_t, train_t_y)\n",
        "lr = 0.001\n",
        "RF_a = modelA(train_a.shape[1],3,(train_a.shape[1]//2)).to(device)\n",
        "RF_t = modelA(train_t.shape[1],3,(train_t.shape[1]//2)).to(device)\n",
        "optimizer_a = torch.optim.Adam(RF_a.parameters(), lr = lr)\n",
        "optimizer_t = torch.optim.Adam(RF_a.parameters(), lr = lr)\n",
        "cost_a = nn.CrossEntropyLoss().cuda()\n",
        "cost_t = nn.CrossEntropyLoss().cuda()\n",
        "\n",
        "print('Done.')"
      ],
      "metadata": {
        "colab": {
          "base_uri": "https://localhost:8080/"
        },
        "id": "nIHuyKEK3710",
        "outputId": "71769dd6-096c-4a7a-df9e-c3452e38afba"
      },
      "execution_count": null,
      "outputs": [
        {
          "output_type": "stream",
          "name": "stdout",
          "text": [
            "Done.\n"
          ]
        }
      ]
    },
    {
      "cell_type": "code",
      "source": [
        "# print(list(RF_a.coef_).count(0), len(train_a.columns))\n",
        "# print(list(RF_t.coef_).count(0), len(train_t.columns))"
      ],
      "metadata": {
        "id": "YIta2u8YYxeV"
      },
      "execution_count": null,
      "outputs": []
    },
    {
      "cell_type": "code",
      "source": [
        "train_a_tensorx = torch.FloatTensor(train_a.values).to(device)\n",
        "train_a_tensory = torch.LongTensor(train_a_y.values).view(-1).to(device)\n",
        "test_a_tensorx = torch.FloatTensor(test_a.values).to(device)\n",
        "\n",
        "train_t_tensorx = torch.FloatTensor(train_t.values).to(device)\n",
        "train_t_tensory = torch.LongTensor(train_t_y.values).view(-1).to(device)\n",
        "test_t_tensorx = torch.FloatTensor(test_t.values).to(device)"
      ],
      "metadata": {
        "id": "pqY4erAYnRQt"
      },
      "execution_count": null,
      "outputs": []
    },
    {
      "cell_type": "code",
      "source": [
        "train_a_tensorx.shape"
      ],
      "metadata": {
        "colab": {
          "base_uri": "https://localhost:8080/"
        },
        "id": "l65KJEI6tOn9",
        "outputId": "06c1f87d-dc93-41f1-924b-e343cea368ed"
      },
      "execution_count": null,
      "outputs": [
        {
          "output_type": "execute_result",
          "data": {
            "text/plain": [
              "torch.Size([200, 2118])"
            ]
          },
          "metadata": {},
          "execution_count": 306
        }
      ]
    },
    {
      "cell_type": "code",
      "source": [
        "num_epochs = 5000\n",
        "for epoch in range(num_epochs + 1):\n",
        "  outputs = RF_a.forward(train_a_tensorx)\n",
        "  costs = cost_a(outputs, train_a_tensory)\n",
        "\n",
        "  optimizer_a.zero_grad()\n",
        "  costs.backward()\n",
        "  optimizer_a.step()\n",
        "\n",
        "  if epoch%1000 == 0:\n",
        "    print(f'Epoch{epoch} : {costs}')\n",
        "\n",
        "\n",
        "\n",
        "for epoch in range(num_epochs + 1):\n",
        "  outputs = RF_t.forward(train_t_tensorx)\n",
        "  costs = cost_t(outputs, train_t_tensory)\n",
        "\n",
        "  optimizer_t.zero_grad()\n",
        "  costs.backward()\n",
        "  optimizer_t.step()\n",
        "  if epoch%1000 == 0:\n",
        "    print(f'Epoch{epoch}  : {costs}')\n",
        "\n",
        "global preds_ac, preds_tc\n",
        "with torch.no_grad():\n",
        "  preds_ac = RF_a(test_a_tensorx).detach()\n",
        "  preds_tc = RF_t(test_t_tensorx).detach()\n",
        "pred_ac_np = torch.argmax(preds_ac.cpu(), dim = 1).numpy()\n",
        "pred_tc_np = torch.argmax(preds_tc.cpu(), dim = 1).numpy()\n",
        "print(accuracy_score(pred_ac_np, test_a_y.values.reshape(-1)))\n",
        "print(accuracy_score(pred_tc_np, test_t_y.values.reshape(-1)))\n",
        "print(pred_tc_np)"
      ],
      "metadata": {
        "colab": {
          "base_uri": "https://localhost:8080/"
        },
        "id": "eYrIDfv8md2y",
        "outputId": "7a7f7a26-42e3-4928-8c24-4ff2d196b8fa"
      },
      "execution_count": null,
      "outputs": [
        {
          "output_type": "stream",
          "name": "stdout",
          "text": [
            "Epoch0 : 7738105344.0\n",
            "Epoch1000 : 10.036676406860352\n",
            "Epoch2000 : 6.0215253829956055\n",
            "Epoch3000 : 9.518133163452148\n",
            "Epoch4000 : 2.0313799381256104\n",
            "Epoch5000 : 28.532896041870117\n",
            "Epoch0  : 70.06867980957031\n",
            "Epoch1000  : 70.06867980957031\n",
            "Epoch2000  : 70.06867980957031\n",
            "Epoch3000  : 70.06867980957031\n",
            "Epoch4000  : 70.06867980957031\n",
            "Epoch5000  : 70.06867980957031\n",
            "0.3469387755102041\n",
            "0.16326530612244897\n",
            "[0 0 0 0 0 0 0 0 0 0 0 0 0 0 0 0 0 0 0 0 0 0 0 0 0 0 0 0 0 0 0 0 0 0 0 0 0\n",
            " 0 0 0 0 0 0 0 0 0 0 0 0]\n"
          ]
        }
      ]
    },
    {
      "cell_type": "code",
      "source": [],
      "metadata": {
        "id": "lf1hQUJM3SyL"
      },
      "execution_count": null,
      "outputs": []
    },
    {
      "cell_type": "code",
      "source": [
        "# preds_ac = RF_a.predict(test_a)\n",
        "# preds_tc = RF_t.predict(test_t)\n",
        "# print('Done.')"
      ],
      "metadata": {
        "id": "2Gu4smRl4lzk"
      },
      "execution_count": null,
      "outputs": []
    },
    {
      "cell_type": "code",
      "source": [
        "# min_df = 0.525068\n",
        "# max_df = 0.534843"
      ],
      "metadata": {
        "id": "XlKQgJwIYI_D"
      },
      "execution_count": null,
      "outputs": []
    },
    {
      "cell_type": "code",
      "source": [
        "# plt.figure(figsize = (10,6))\n",
        "# plt.scatter(range(len(preds_ac)),preds_ac, label = \"pred\")\n",
        "# plt.scatter(range(len(test_a_y)), test_a_y, label = \"actual\")\n",
        "# plt.ylim(-0.1,2.1)\n",
        "# plt.legend()\n",
        "# plt.show()"
      ],
      "metadata": {
        "id": "GqfnFlbl4v5A"
      },
      "execution_count": null,
      "outputs": []
    },
    {
      "cell_type": "code",
      "source": [
        "# plt.figure(figsize = (10,6))\n",
        "# plt.scatter(range(len(preds_tc)),preds_tc, label = \"pred\")\n",
        "# plt.scatter(range(len(test_t_y)), test_t_y, label = \"actual\")\n",
        "# plt.ylim(-0.1,2.1)\n",
        "# plt.legend()\n",
        "# plt.show()"
      ],
      "metadata": {
        "id": "7kLMzUHs46sj"
      },
      "execution_count": null,
      "outputs": []
    },
    {
      "cell_type": "code",
      "source": [
        "# print(accuracy_score(preds_ac, test_a_y))\n",
        "# print(accuracy_score(preds_tc, test_t_y))"
      ],
      "metadata": {
        "id": "sCa-Rnwcery8"
      },
      "execution_count": null,
      "outputs": []
    }
  ]
}