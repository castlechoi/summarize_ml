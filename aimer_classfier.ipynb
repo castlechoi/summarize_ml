{
  "nbformat": 4,
  "nbformat_minor": 0,
  "metadata": {
    "colab": {
      "provenance": [],
      "authorship_tag": "ABX9TyP8raYag1e7E9K+xfz4wKZZ"
    },
    "kernelspec": {
      "name": "python3",
      "display_name": "Python 3"
    },
    "language_info": {
      "name": "python"
    },
    "accelerator": "GPU",
    "gpuClass": "standard"
  },
  "cells": [
    {
      "cell_type": "markdown",
      "source": [
        "##classification"
      ],
      "metadata": {
        "id": "HRqmI3-cTze9"
      }
    },
    {
      "cell_type": "code",
      "source": [
        "import pandas as pd\n",
        "import numpy as np\n",
        "import matplotlib.pyplot as plt\n",
        "from sklearn.tree import DecisionTreeClassifier\n",
        "from sklearn import svm\n",
        "from sklearn.linear_model import LogisticRegression, SGDClassifier\n",
        "from sklearn.metrics import accuracy_score\n",
        "from tqdm import tqdm\n",
        "import torch\n",
        "import torch.nn as nn\n",
        "import torch.nn.functional as F\n",
        "import os\n",
        "import random\n",
        "\n",
        "from sklearn.preprocessing import LabelEncoder\n",
        "from sklearn.ensemble import RandomForestClassifier, HistGradientBoostingRegressor\n",
        "from sklearn.ensemble import RandomForestRegressor, HistGradientBoostingClassifier\n",
        "from sklearn.linear_model import Lasso, Ridge\n",
        "\n",
        "def seed_everything(seed):\n",
        "    random.seed(seed)\n",
        "    os.environ['PYTHONHASHSEED'] = str(seed)\n",
        "    np.random.seed(seed)\n",
        "seed_everything(37) # Seed 고정\n",
        "torch.manual_seed(37)"
      ],
      "metadata": {
        "id": "t8gdFlHIefmP",
        "colab": {
          "base_uri": "https://localhost:8080/"
        },
        "outputId": "95817bda-7cc2-4505-d2ab-ca817edb7e6a"
      },
      "execution_count": null,
      "outputs": [
        {
          "output_type": "execute_result",
          "data": {
            "text/plain": [
              "<torch._C.Generator at 0x7fc768bbec10>"
            ]
          },
          "metadata": {},
          "execution_count": 912
        }
      ]
    },
    {
      "cell_type": "code",
      "source": [
        "train_df = pd.read_csv('./train.csv')\n",
        "test_df = pd.read_csv('./test.csv')"
      ],
      "metadata": {
        "id": "3hG7soWA4Aoy"
      },
      "execution_count": null,
      "outputs": []
    },
    {
      "cell_type": "code",
      "source": [
        "train_x = train_df.drop(columns=['PRODUCT_ID', 'TIMESTAMP', 'Y_Class','Y_Quality'])\n",
        "test_x = test_df.drop(columns= ['PRODUCT_ID','TIMESTAMP'])\n",
        "train_y = train_df[['Y_Quality','PRODUCT_CODE']]"
      ],
      "metadata": {
        "id": "Rv7t5anA8Okz"
      },
      "execution_count": null,
      "outputs": []
    },
    {
      "cell_type": "code",
      "source": [
        "# qualitative to quantitative\n",
        "qual_col = ['LINE', 'PRODUCT_CODE']\n",
        "\n",
        "for i in qual_col:\n",
        "    le = LabelEncoder()\n",
        "    le = le.fit(train_x[i])\n",
        "    train_x[i] = le.transform(train_x[i])\n",
        "    \n",
        "    for label in np.unique(test_x[i]): \n",
        "        if label not in le.classes_: \n",
        "            le.classes_ = np.append(le.classes_, label)\n",
        "    test_x[i] = le.transform(test_x[i]) \n",
        "print('Done.')"
      ],
      "metadata": {
        "colab": {
          "base_uri": "https://localhost:8080/"
        },
        "id": "oXZzpoZv3uDt",
        "outputId": "ba84131a-a7b5-4a15-d722-5a14470f4593"
      },
      "execution_count": null,
      "outputs": [
        {
          "output_type": "stream",
          "name": "stdout",
          "text": [
            "Done.\n"
          ]
        }
      ]
    },
    {
      "cell_type": "code",
      "source": [
        "train_a = train_x[train_x['PRODUCT_CODE'] == 0]\n",
        "train_t = train_x[train_x['PRODUCT_CODE'] != 0]\n",
        "\n",
        "test_a = test_x[test_x['PRODUCT_CODE'] == 0]\n",
        "test_t = test_x[test_x['PRODUCT_CODE'] != 0]\n",
        "\n",
        "train_a_y = train_y[train_y['PRODUCT_CODE'] == 'A_31']\n",
        "train_t_y = train_y[train_y['PRODUCT_CODE'] != 'A_31']\n",
        "train_a_y = train_a_y['Y_Quality']\n",
        "train_t_y = train_t_y['Y_Quality']\n",
        "\n",
        "print(f\"Shape of A_31/T_31 : {train_a.shape} {train_t.shape}\")"
      ],
      "metadata": {
        "colab": {
          "base_uri": "https://localhost:8080/"
        },
        "id": "rriov3iy0k2x",
        "outputId": "76118b0c-3a9b-4131-d4ac-3d0f18cd3fe9"
      },
      "execution_count": null,
      "outputs": [
        {
          "output_type": "stream",
          "name": "stdout",
          "text": [
            "Shape of A_31/T_31 : (249, 2877) (349, 2877)\n"
          ]
        }
      ]
    },
    {
      "cell_type": "code",
      "source": [
        "col = train_x.columns\n",
        "na_a_col = []\n",
        "na_t_col = []\n",
        "for i in col:\n",
        "  if train_a[i].count() == 0:\n",
        "    na_a_col.append(i)\n",
        "  if train_t[i].count() == 0:\n",
        "    na_t_col.append(i)"
      ],
      "metadata": {
        "id": "xGVz0l_HU8lB"
      },
      "execution_count": null,
      "outputs": []
    },
    {
      "cell_type": "code",
      "source": [
        "a_col = []\n",
        "t_col = []\n",
        "\n",
        "for i in col:\n",
        "  if i == 'PRODUCT_CODE' or i == 'LINE' or i == 'Y_Quality':\n",
        "    continue\n",
        "  if i not in na_a_col:\n",
        "    a_col.append(i)\n",
        "  if i not in na_t_col:\n",
        "    t_col.append(i)\n",
        "comm_na_col = []\n",
        "for i in na_a_col:\n",
        "  if i in na_t_col:\n",
        "   comm_na_col.append(i)"
      ],
      "metadata": {
        "id": "3xN-U7r7U3aT"
      },
      "execution_count": null,
      "outputs": []
    },
    {
      "cell_type": "code",
      "source": [
        "train_a.drop(comm_na_col, axis = 1, inplace = True)\n",
        "train_t.drop(comm_na_col, axis = 1, inplace = True)\n",
        "test_a.drop(comm_na_col, axis = 1, inplace = True)\n",
        "test_t.drop(comm_na_col, axis = 1, inplace = True)\n",
        "train_a.drop(t_col, axis = 1, inplace = True)\n",
        "train_t.drop(a_col,axis = 1, inplace = True)\n",
        "test_a.drop(t_col, axis = 1, inplace = True)\n",
        "test_t.drop(a_col,axis = 1, inplace = True)"
      ],
      "metadata": {
        "id": "Brxcb-XGVvxg",
        "colab": {
          "base_uri": "https://localhost:8080/"
        },
        "outputId": "f5cdc5eb-efe5-4106-a40a-4ef004b08219"
      },
      "execution_count": null,
      "outputs": [
        {
          "output_type": "stream",
          "name": "stderr",
          "text": [
            "/usr/local/lib/python3.8/dist-packages/pandas/core/frame.py:4906: SettingWithCopyWarning: \n",
            "A value is trying to be set on a copy of a slice from a DataFrame\n",
            "\n",
            "See the caveats in the documentation: https://pandas.pydata.org/pandas-docs/stable/user_guide/indexing.html#returning-a-view-versus-a-copy\n",
            "  return super().drop(\n"
          ]
        }
      ]
    },
    {
      "cell_type": "code",
      "source": [
        "print(len(train_a.columns))\n",
        "print(len(train_t.columns))\n",
        "print(len(test_a.columns))\n",
        "print(len(test_t.columns))"
      ],
      "metadata": {
        "colab": {
          "base_uri": "https://localhost:8080/"
        },
        "id": "ubKPdIMnWDEk",
        "outputId": "99d60ca8-1b24-4e7d-efa9-a6823ff3255f"
      },
      "execution_count": null,
      "outputs": [
        {
          "output_type": "stream",
          "name": "stdout",
          "text": [
            "2118\n",
            "679\n",
            "2118\n",
            "679\n"
          ]
        }
      ]
    },
    {
      "cell_type": "code",
      "source": [
        "train_a = train_a.fillna(0)\n",
        "train_t = train_t.fillna(0)\n",
        "test_a = test_a.fillna(0)\n",
        "test_t = test_t.fillna(0)"
      ],
      "metadata": {
        "id": "oPOeb7Es3qLl"
      },
      "execution_count": null,
      "outputs": []
    },
    {
      "cell_type": "code",
      "source": [
        "# class modelA(nn.Module):\n",
        "#   def __init__(self, input_size, output_size, hidden_size):\n",
        "#     super(modelA,self).__init__()\n",
        "\n",
        "#     self.input_size = input_size\n",
        "#     self.output_size = output_size\n",
        "\n",
        "#     self.linear = nn.Linear(input_size,hidden_size)\n",
        "#     self.linear2 = nn.Linear(hidden_size, hidden_size)\n",
        "#     self.fc = nn.Linear(hidden_size, output_size)\n",
        "\n",
        "#     self.softmax = nn.Softmax(dim = 0)\n",
        "#     self.relu = nn.ReLU()\n",
        "\n",
        "#   def forward(self, x):\n",
        "#     out = self.linear(x)\n",
        "#     out = self.relu(out)\n",
        "#     out = self.linear2(out)\n",
        "#     out = self.relu(out)\n",
        "#     out = self.fc(out)\n",
        "#     return out"
      ],
      "metadata": {
        "id": "qgy6Y0fykEDd"
      },
      "execution_count": null,
      "outputs": []
    },
    {
      "cell_type": "code",
      "source": [
        "\n",
        "# #GPU 체크\n",
        "# is_cuda = torch.cuda.is_available()\n",
        "# if is_cuda:\n",
        "#   device = torch.device(\"cuda\")\n",
        "#   print(\"GPU is available\")\n",
        "# else:\n",
        "#   device = torch.device(\"cpu\")\n",
        "#   print(\"CPU is availalbe\")\n",
        "     "
      ],
      "metadata": {
        "id": "YLnkk0qcqGDV"
      },
      "execution_count": null,
      "outputs": []
    },
    {
      "cell_type": "code",
      "source": [
        "# RF_a = RandomForestClassifier(random_state=37).fit(train_a, train_a_y)\n",
        "# RF_t = RandomForestClassifier(random_state=37).fit(train_t, train_t_y)\n",
        "# RF_a = RandomForestRegressor(random_state=37).fit(train_a, train_a_y)\n",
        "# RF_t = RandomForestRegressor(random_state=37).fit(train_t, train_t_y)\n",
        "\n",
        "RF_a = HistGradientBoostingRegressor(random_state=37).fit(train_a, train_a_y)\n",
        "RF_t = HistGradientBoostingRegressor(random_state=37).fit(train_t, train_t_y)\n",
        "\n",
        "# RF_a = DecisionTreeClassifier(random_state=37,criterion = 'entropy').fit(train_a, train_a_y)\n",
        "# RF_t = DecisionTreeClassifier(random_state=37,criterion = 'entropy').fit(train_t, train_t_y)\n",
        "\n",
        "# RF_a = svm.SVC(random_state=37, kernel = 'poly').fit(train_a, train_a_y)\n",
        "# RF_t = svm.SVC(random_state=37, kernel = 'poly').fit(train_t, train_t_y)\n",
        "\n",
        "# RF_a = SGDClassifier(random_state=37).fit(train_a, train_a_y)\n",
        "# RF_t = SGDClassifier(random_state=37).fit(train_t, train_t_y)\n",
        "\n",
        "# RF_a = LogisticRegression(random_state=37).fit(train_a, train_a_y)\n",
        "# RF_t = LogisticRegression(random_state=37).fit(train_t, train_t_y)\n",
        "# lr = 0.0001\n",
        "# RF_a = modelA(train_a.shape[1],1,(train_a.shape[1]//2)).to(device)\n",
        "# RF_t = modelA(train_t.shape[1],1,(train_t.shape[1]//2)).to(device)\n",
        "# optimizer_a = torch.optim.Adam(RF_a.parameters(), lr = lr)\n",
        "# optimizer_t = torch.optim.Adam(RF_a.parameters(), lr = lr)\n",
        "# cost_a = nn.CrossEntropyLoss().cuda()\n",
        "# cost_t = nn.CrossEntropyLoss().cuda()\n",
        "# cost_a = nn.MSELoss().cuda()\n",
        "# cost_t = nn.MSELoss().cuda()\n",
        "# RF_a = Ridge(random_state=37).fit(train_a, train_a_y)\n",
        "# RF_t = Ridge(random_state=37).fit(train_t, train_t_y)\n",
        "\n",
        "print('Done.')"
      ],
      "metadata": {
        "colab": {
          "base_uri": "https://localhost:8080/"
        },
        "id": "nIHuyKEK3710",
        "outputId": "26689e3b-0758-47ec-bbc5-2078b5afeebe"
      },
      "execution_count": null,
      "outputs": [
        {
          "output_type": "stream",
          "name": "stdout",
          "text": [
            "Done.\n"
          ]
        }
      ]
    },
    {
      "cell_type": "code",
      "source": [
        "# \"\"\" df to tensor for deep learning\"\"\"\n",
        "# train_a_tensorx = torch.FloatTensor(train_a.values).to(device)\n",
        "# train_a_tensory = torch.FloatTensor(train_a_y.values).view(-1).to(device)\n",
        "# test_a_tensorx = torch.FloatTensor(test_a.values).to(device)\n",
        "\n",
        "# train_t_tensorx = torch.FloatTensor(train_t.values).to(device)\n",
        "# train_t_tensory = torch.FloatTensor(train_t_y.values).view(-1).to(device)\n",
        "# test_t_tensorx = torch.FloatTensor(test_t.values).to(device)\n",
        "\n",
        "# print(train_a_tensorx.shape)\n",
        "# print(test_a_tensorx.shape)\n",
        "# print(test_t_tensorx.shape)"
      ],
      "metadata": {
        "id": "pqY4erAYnRQt"
      },
      "execution_count": null,
      "outputs": []
    },
    {
      "cell_type": "code",
      "source": [
        "# \"\"\" deep learning training\"\"\"\n",
        "# num_epochs = 5000\n",
        "# for epoch in range(num_epochs + 1):\n",
        "#   outputs = RF_a.forward(train_a_tensorx)\n",
        "#   costs = cost_a(outputs, train_a_tensory)\n",
        "\n",
        "#   optimizer_a.zero_grad()\n",
        "#   costs.backward()\n",
        "#   optimizer_a.step()\n",
        "\n",
        "#   if epoch%1000 == 0:\n",
        "#     print(f'Epoch{epoch} : {costs}')\n",
        "\n",
        "# num_epochs = 1000\n",
        "# for epoch in range(num_epochs + 1):\n",
        "#   outputs = RF_t.forward(train_t_tensorx)\n",
        "#   costt = cost_t(outputs, train_t_tensory)\n",
        "\n",
        "#   optimizer_t.zero_grad()\n",
        "#   costt.backward()\n",
        "#   optimizer_t.step()\n",
        "#   if epoch%100 == 0:\n",
        "#     print(f'Epoch{epoch}  : {costt}')"
      ],
      "metadata": {
        "id": "eYrIDfv8md2y"
      },
      "execution_count": null,
      "outputs": []
    },
    {
      "cell_type": "code",
      "source": [
        "# pred_a = torch.argmax(preds_ac.cpu(), dim = 1).numpy()\n",
        "# pred_t = torch.argmax(preds_tc.cpu(), dim = 1).numpy()\n",
        "pred_a = RF_a.predict(test_a)\n",
        "pred_t = RF_t.predict(test_t)\n",
        "# pred_a = RF_a(test_a_tensorx).cpu().detach().numpy()\n",
        "# pred_t = RF_t(test_t_tensorx).cpu().detach().numpy()"
      ],
      "metadata": {
        "id": "9EtoPHPb99SS"
      },
      "execution_count": null,
      "outputs": []
    },
    {
      "cell_type": "code",
      "source": [
        "print(np.min(pred_a), np.max(pred_a), np.mean(pred_a))\n",
        "print(np.min(pred_t), np.max(pred_t), np.mean(pred_t))"
      ],
      "metadata": {
        "colab": {
          "base_uri": "https://localhost:8080/"
        },
        "id": "o-acYYxq4wwh",
        "outputId": "85a07d79-7a30-4349-8271-aa6ef1eae440"
      },
      "execution_count": null,
      "outputs": [
        {
          "output_type": "stream",
          "name": "stdout",
          "text": [
            "0.5159033012104385 0.5440425147632482 0.5296717491937787\n",
            "0.516295879045746 0.5352718905554894 0.5283355860400599\n"
          ]
        }
      ]
    },
    {
      "cell_type": "code",
      "source": [
        "plt.figure(figsize = (10,6))\n",
        "plt.subplot(2,1,1)\n",
        "plt.scatter(range(len(pred_a)), pred_a)\n",
        "\n",
        "plt.subplot(2,1,2)\n",
        "plt.scatter(range(len(pred_t)), pred_t)\n",
        "\n",
        "plt.show()"
      ],
      "metadata": {
        "colab": {
          "base_uri": "https://localhost:8080/",
          "height": 376
        },
        "id": "hyjHoaNL57TE",
        "outputId": "7cb584a4-74c7-4d8f-8985-03e0b2c38012"
      },
      "execution_count": null,
      "outputs": [
        {
          "output_type": "display_data",
          "data": {
            "text/plain": [
              "<Figure size 720x432 with 2 Axes>"
            ],
            "image/png": "[encoded data removed]"
          },
          "metadata": {
            "needs_background": "light"
          }
        }
      ]
    },
    {
      "cell_type": "code",
      "source": [
        "test_pred = []\n",
        "a_cnt = 0\n",
        "t_cnt = 0\n",
        "test_prd = test_df['PRODUCT_CODE']\n",
        "for idx,i in enumerate(test_prd):\n",
        "  if i == 'A_31':\n",
        "    test_pred.append(pred_a[a_cnt])\n",
        "    a_cnt += 1\n",
        "  else:\n",
        "    test_pred.append(pred_t[t_cnt])\n",
        "    t_cnt+=1"
      ],
      "metadata": {
        "id": "LODZTwwN1RjJ"
      },
      "execution_count": null,
      "outputs": []
    },
    {
      "cell_type": "code",
      "source": [
        "print(test_pred)"
      ],
      "metadata": {
        "colab": {
          "base_uri": "https://localhost:8080/"
        },
        "id": "EEbzpLke4eli",
        "outputId": "188f33aa-8ed6-4dc9-81f5-b7d661da27dc"
      },
      "execution_count": null,
      "outputs": [
        {
          "output_type": "stream",
          "name": "stdout",
          "text": [
            "[0.531745792009533, 0.5305824247027282, 0.531034135156825, 0.5220304647638567, 0.5282843246759823, 0.532960449081773, 0.5343841229548272, 0.5263053880740748, 0.5253910179172598, 0.5354731133655395, 0.5333846975682424, 0.5332733547364555, 0.5345552061207046, 0.5345096228076298, 0.5203043963897794, 0.5212233931113874, 0.5347513008123574, 0.5230198068402875, 0.5317481044228627, 0.5327184642542387, 0.5228750889084391, 0.5328177864229884, 0.522126158940197, 0.5205842734334153, 0.5232989073969709, 0.5213328896907374, 0.533199862208927, 0.5220405943903357, 0.5225080486825809, 0.5325567956391365, 0.5215406189477877, 0.531350902760003, 0.5218303337199406, 0.5294623262981094, 0.5335281541385062, 0.5221130596097406, 0.5320228935847698, 0.521589567917003, 0.5440102085615744, 0.5234127582528816, 0.5338618697216843, 0.5225081011413938, 0.5223581495333876, 0.5272817502444321, 0.5259283488829394, 0.5326442128125101, 0.5318337086988231, 0.5163320589200243, 0.5305714341113748, 0.5179663691228684, 0.5321366128788272, 0.516295879045746, 0.5227990310928272, 0.522935373111773, 0.5238607629403808, 0.521367499474771, 0.5261139058963935, 0.5261961475182384, 0.5192384761070986, 0.5212139488558887, 0.5196634327315256, 0.5226183458502682, 0.5347398274894843, 0.5313906883189321, 0.5240735594454142, 0.5223947762666877, 0.5209295619527581, 0.5299652151189344, 0.5262650753546043, 0.5278189833033137, 0.5279372704885015, 0.5207192489755932, 0.5344119030571455, 0.528290279722375, 0.5320475697352267, 0.5284347593432034, 0.534708434618679, 0.5289852184832324, 0.533216408572021, 0.5340126935655378, 0.5269858209540416, 0.531605673288232, 0.527224175674465, 0.528076907943691, 0.5275307904602583, 0.5316275260849951, 0.5159033012104385, 0.5315503276219661, 0.5211457246706728, 0.5231097418749713, 0.527496304415454, 0.5311317423883364, 0.5272713397771659, 0.5280397740455652, 0.5287092587384897, 0.5268576691719885, 0.5315988550495203, 0.5288388753351045, 0.5281317458376487, 0.528087337485234, 0.5284793409208909, 0.5273584051896665, 0.5289895285699114, 0.5277346592754678, 0.5309075728702705, 0.530997326522323, 0.5283709051660251, 0.5290010525722262, 0.5273164599522652, 0.5374749609574596, 0.5306691646923568, 0.5289496501627597, 0.528413656558731, 0.5280759600412529, 0.534219962101273, 0.5324570026357528, 0.5260767900689083, 0.5232718091035587, 0.525689719740208, 0.528911730055926, 0.5314794146767869, 0.5314685162173146, 0.5283095488785633, 0.5283368864118295, 0.528838142679697, 0.5291699696432198, 0.5277173929860567, 0.5299665107038174, 0.5325738729035032, 0.5302656219330666, 0.5346302353466826, 0.5344760573781474, 0.5329384340599176, 0.5254522747745068, 0.526981412644951, 0.5275837861508208, 0.5325144674461086, 0.5286276964809158, 0.5276505084120013, 0.5283235497386576, 0.5302845982659792, 0.5229340078434236, 0.5257146368486644, 0.533191692114603, 0.5281435333195161, 0.5276393627790075, 0.5314081561874366, 0.5285787117011892, 0.52566275904959, 0.527304675656612, 0.5265521366385099, 0.5289196065464946, 0.5315717060379083, 0.5280949743361576, 0.527194318880286, 0.5285874352449667, 0.5265005422734402, 0.5272526971842146, 0.5281684165577334, 0.5298053901827229, 0.5344926399716329, 0.534855273702124, 0.532296654558165, 0.5349397447446714, 0.5290250323333049, 0.5312758987322703, 0.5292752484017585, 0.5302353255100146, 0.5294012098668095, 0.5343053889857214, 0.5334931451173127, 0.5269419547387849, 0.5351007667371334, 0.5254879872073467, 0.534437969019615, 0.5259299467924342, 0.5350055029541051, 0.5351005075824599, 0.5253464807509469, 0.5331962313902214, 0.5350577748129243, 0.5278653512237942, 0.5308755438946429, 0.5336979546664359, 0.5301347125405181, 0.5283698394764665, 0.5289758882583987, 0.5344325998518037, 0.529547832722771, 0.5347376469109103, 0.5297935707682908, 0.5346255043858676, 0.5296550816966257, 0.5338934705488086, 0.5295360455442685, 0.5325161576361715, 0.5292495027727994, 0.5268359437190057, 0.534618248905167, 0.5258597771724457, 0.5323987870246776, 0.5247080936087261, 0.5338713813349689, 0.5241386053741555, 0.533320788526789, 0.5343700564213778, 0.5285629167587054, 0.5281258090875798, 0.5270790276410277, 0.535050425309958, 0.5253543050993013, 0.5259574807987053, 0.5301098291690685, 0.5300223597201402, 0.5345958680508736, 0.5251910290368819, 0.5245652209290855, 0.5352718905554894, 0.5263281844343539, 0.5349189547204644, 0.524705008395773, 0.5318191376555516, 0.5319571359569885, 0.5239693817349257, 0.5243568196484044, 0.5244172125716569, 0.5292996249805527, 0.5256841685580819, 0.5299584952316266, 0.5256611919157477, 0.5248517836320908, 0.5250096628118116, 0.53460225030659, 0.5323485468449864, 0.5304535519129574, 0.5276690961415357, 0.5265789327734075, 0.5272629653029158, 0.5331619660333418, 0.5262409712737061, 0.5256972694783408, 0.5327743735244233, 0.52620805259317, 0.5283822030137094, 0.5267999718156492, 0.526959616945595, 0.5253412124299597, 0.5259759863345218, 0.5318892835913388, 0.5332922669341451, 0.5311685162196701, 0.5333258683697707, 0.5320107998645579, 0.5327771821405727, 0.533316559592107, 0.5310321333045706, 0.5295529857340909, 0.5245120877474406, 0.5300216407017564, 0.5263764992718405, 0.5440425147632482, 0.5264924428478772, 0.5259589696188149, 0.5340587416407775, 0.5302568836053918, 0.526541196001791, 0.5262689018036534, 0.5253923361459613, 0.526377767807108, 0.5253862719486132, 0.5257979036642919, 0.524686540576747, 0.5280478547442451, 0.5251949363878571, 0.5279501375120947, 0.5274326132604475, 0.5262520674280843, 0.5277095509615911, 0.5264271026736439, 0.5264368305821794, 0.5329630129127442, 0.5315865444307396, 0.5330660542895717, 0.5340956500786858, 0.5331204734971784, 0.5332774460999988, 0.5327483961068673, 0.5263978998177063, 0.526122011861591, 0.526115794094048, 0.5260803899499327, 0.526680615701905, 0.5313120727340404, 0.5325626540088106, 0.5243061912376441, 0.5260699446610758, 0.523533270115048, 0.527032805998667, 0.5264354907803763, 0.5258734560133274, 0.5277996009260575, 0.5254593739554607, 0.5263294886951854, 0.5280944071256752, 0.5266164227713745, 0.5256330327052254, 0.5269955585179719, 0.5260310692328503, 0.5240573605466339, 0.5256118593040537]\n"
          ]
        }
      ]
    },
    {
      "cell_type": "code",
      "source": [
        "train_df = pd.read_csv('./train.csv')\n",
        "test_df = pd.read_csv('./test.csv')\n",
        "train_x = train_df.drop(columns=['PRODUCT_ID', 'TIMESTAMP', 'Y_Class'])\n",
        "test_x = test_df.drop(columns= ['PRODUCT_ID','TIMESTAMP'])\n",
        "train_y = train_df[['Y_Class','PRODUCT_CODE']]"
      ],
      "metadata": {
        "id": "Bw8OyuVJ1syG"
      },
      "execution_count": null,
      "outputs": []
    },
    {
      "cell_type": "code",
      "source": [
        "# qualitative to quantitative\n",
        "qual_col = ['LINE', 'PRODUCT_CODE']\n",
        "\n",
        "for i in qual_col:\n",
        "    le = LabelEncoder()\n",
        "    le = le.fit(train_x[i])\n",
        "    train_x[i] = le.transform(train_x[i])\n",
        "    \n",
        "    for label in np.unique(test_x[i]): \n",
        "        if label not in le.classes_: \n",
        "            le.classes_ = np.append(le.classes_, label)\n",
        "    test_x[i] = le.transform(test_x[i]) \n",
        "print('Done.')"
      ],
      "metadata": {
        "colab": {
          "base_uri": "https://localhost:8080/"
        },
        "id": "ywAijjAx2FkF",
        "outputId": "7eca396e-3e1e-4c15-a43d-bfd2f4355554"
      },
      "execution_count": null,
      "outputs": [
        {
          "output_type": "stream",
          "name": "stdout",
          "text": [
            "Done.\n"
          ]
        }
      ]
    },
    {
      "cell_type": "code",
      "source": [
        "train_a = train_x[train_x['PRODUCT_CODE'] == 0]\n",
        "train_t = train_x[train_x['PRODUCT_CODE'] != 0]\n",
        "\n",
        "test_a = test_x[test_x['PRODUCT_CODE'] == 0]\n",
        "test_t = test_x[test_x['PRODUCT_CODE'] != 0]\n",
        "\n",
        "train_a_y = train_y[train_y['PRODUCT_CODE'] == 'A_31']\n",
        "train_t_y = train_y[train_y['PRODUCT_CODE'] != 'A_31']\n",
        "train_a_y = train_a_y['Y_Class']\n",
        "train_t_y = train_t_y['Y_Class']\n",
        "\n",
        "print(f\"Shape of A_31/T_31 : {train_a.shape} {train_t.shape}\")"
      ],
      "metadata": {
        "colab": {
          "base_uri": "https://localhost:8080/"
        },
        "id": "187iR-U72ITi",
        "outputId": "43b93ea0-4f0b-4a0c-930d-9122e22d0a75"
      },
      "execution_count": null,
      "outputs": [
        {
          "output_type": "stream",
          "name": "stdout",
          "text": [
            "Shape of A_31/T_31 : (249, 2878) (349, 2878)\n"
          ]
        }
      ]
    },
    {
      "cell_type": "code",
      "source": [
        "col = train_x.columns\n",
        "na_a_col = []\n",
        "na_t_col = []\n",
        "for i in col:\n",
        "  if train_a[i].count() == 0:\n",
        "    na_a_col.append(i)\n",
        "  if train_t[i].count() == 0:\n",
        "    na_t_col.append(i)"
      ],
      "metadata": {
        "id": "T8hLRYdz2LW_"
      },
      "execution_count": null,
      "outputs": []
    },
    {
      "cell_type": "code",
      "source": [
        "a_col = []\n",
        "t_col = []\n",
        "\n",
        "for i in col:\n",
        "  if i == 'PRODUCT_CODE' or i == 'LINE' or i == 'Y_Quality':\n",
        "    continue\n",
        "  if i not in na_a_col:\n",
        "    a_col.append(i)\n",
        "  if i not in na_t_col:\n",
        "    t_col.append(i)\n",
        "comm_na_col = []\n",
        "for i in na_a_col:\n",
        "  if i in na_t_col:\n",
        "   comm_na_col.append(i)"
      ],
      "metadata": {
        "id": "_qhVYAx72Rgi"
      },
      "execution_count": null,
      "outputs": []
    },
    {
      "cell_type": "code",
      "source": [
        "train_a.drop(comm_na_col, axis = 1, inplace = True)\n",
        "train_t.drop(comm_na_col, axis = 1, inplace = True)\n",
        "test_a.drop(comm_na_col, axis = 1, inplace = True)\n",
        "test_t.drop(comm_na_col, axis = 1, inplace = True)\n",
        "train_a.drop(t_col, axis = 1, inplace = True)\n",
        "train_t.drop(a_col,axis = 1, inplace = True)\n",
        "test_a.drop(t_col, axis = 1, inplace = True)\n",
        "test_t.drop(a_col,axis = 1, inplace = True)"
      ],
      "metadata": {
        "colab": {
          "base_uri": "https://localhost:8080/"
        },
        "id": "RKmeF9ld2tDL",
        "outputId": "c3d2981b-9c99-4697-c67c-ad2360d9cb1f"
      },
      "execution_count": null,
      "outputs": [
        {
          "output_type": "stream",
          "name": "stderr",
          "text": [
            "/usr/local/lib/python3.8/dist-packages/pandas/core/frame.py:4906: SettingWithCopyWarning: \n",
            "A value is trying to be set on a copy of a slice from a DataFrame\n",
            "\n",
            "See the caveats in the documentation: https://pandas.pydata.org/pandas-docs/stable/user_guide/indexing.html#returning-a-view-versus-a-copy\n",
            "  return super().drop(\n"
          ]
        }
      ]
    },
    {
      "cell_type": "code",
      "source": [
        "train_a = train_a.fillna(0)\n",
        "train_t = train_t.fillna(0)\n",
        "test_a = test_a.fillna(0)\n",
        "test_t = test_t.fillna(0)"
      ],
      "metadata": {
        "id": "H5m-VTO72wmn"
      },
      "execution_count": null,
      "outputs": []
    },
    {
      "cell_type": "code",
      "source": [
        "test_a['Y_Quality'] = pred_a\n",
        "test_t['Y_Quality'] = pred_t"
      ],
      "metadata": {
        "id": "iRoBWjb83KD6"
      },
      "execution_count": null,
      "outputs": []
    },
    {
      "cell_type": "code",
      "source": [
        "new_cola = ['Y_Quality'] + test_a.columns.to_list()[:-1]\n",
        "new_colt = ['Y_Quality'] + test_t.columns.to_list()[:-1]\n",
        "test_a = test_a[new_cola]\n",
        "test_t = test_t[new_colt]"
      ],
      "metadata": {
        "id": "9QnWV4n5COUD"
      },
      "execution_count": null,
      "outputs": []
    },
    {
      "cell_type": "code",
      "source": [
        "RF_a =HistGradientBoostingClassifier(random_state=37).fit(train_a, train_a_y)\n",
        "RF_t = HistGradientBoostingClassifier(random_state=37).fit(train_t, train_t_y)"
      ],
      "metadata": {
        "id": "KPOnonpF22cY"
      },
      "execution_count": null,
      "outputs": []
    },
    {
      "cell_type": "code",
      "source": [
        "pred_a1 = RF_a.predict(test_a)\n",
        "pred_t1 = RF_t.predict(test_t)"
      ],
      "metadata": {
        "id": "jpNF1k7d27q0"
      },
      "execution_count": null,
      "outputs": []
    },
    {
      "cell_type": "code",
      "source": [
        "test_pred = []\n",
        "a_cnt = 0\n",
        "t_cnt = 0\n",
        "test_prd = test_df['PRODUCT_CODE']\n",
        "for idx,i in enumerate(test_prd):\n",
        "  if i == 'A_31':\n",
        "    test_pred.append(pred_a1[a_cnt])\n",
        "    a_cnt += 1\n",
        "  else:\n",
        "    test_pred.append(pred_t1[t_cnt])\n",
        "    t_cnt+=1"
      ],
      "metadata": {
        "id": "aKWgX4Wl3pE_"
      },
      "execution_count": null,
      "outputs": []
    },
    {
      "cell_type": "markdown",
      "source": [
        "submission"
      ],
      "metadata": {
        "id": "_JZAvHVP16ln"
      }
    },
    {
      "cell_type": "code",
      "source": [
        "submit = pd.read_csv('./sample_submission.csv')\n",
        "submit['Y_Class'] = test_pred\n",
        "submit.to_csv('./baseline_submission.csv', index=False)"
      ],
      "metadata": {
        "id": "L3v08muJ_PWW"
      },
      "execution_count": null,
      "outputs": []
    },
    {
      "cell_type": "code",
      "source": [
        "# preds_ac = RF_a.predict(test_a)\n",
        "# preds_tc = RF_t.predict(test_t)\n",
        "# print('Done.')"
      ],
      "metadata": {
        "id": "2Gu4smRl4lzk"
      },
      "execution_count": null,
      "outputs": []
    },
    {
      "cell_type": "code",
      "source": [
        "# min_df = 0.525068\n",
        "# max_df = 0.534843"
      ],
      "metadata": {
        "id": "XlKQgJwIYI_D"
      },
      "execution_count": null,
      "outputs": []
    },
    {
      "cell_type": "code",
      "source": [
        "# plt.figure(figsize = (10,6))\n",
        "# plt.scatter(range(len(preds_ac)),preds_ac, label = \"pred\")\n",
        "# plt.scatter(range(len(test_a_y)), test_a_y, label = \"actual\")\n",
        "# plt.ylim(-0.1,2.1)\n",
        "# plt.legend()\n",
        "# plt.show()"
      ],
      "metadata": {
        "id": "GqfnFlbl4v5A"
      },
      "execution_count": null,
      "outputs": []
    },
    {
      "cell_type": "code",
      "source": [
        "# plt.figure(figsize = (10,6))\n",
        "# plt.scatter(range(len(preds_tc)),preds_tc, label = \"pred\")\n",
        "# plt.scatter(range(len(test_t_y)), test_t_y, label = \"actual\")\n",
        "# plt.ylim(-0.1,2.1)\n",
        "# plt.legend()\n",
        "# plt.show()"
      ],
      "metadata": {
        "id": "7kLMzUHs46sj"
      },
      "execution_count": null,
      "outputs": []
    },
    {
      "cell_type": "code",
      "source": [
        "# print(accuracy_score(preds_ac, test_a_y))\n",
        "# print(accuracy_score(preds_tc, test_t_y))"
      ],
      "metadata": {
        "id": "sCa-Rnwcery8"
      },
      "execution_count": null,
      "outputs": []
    }
  ]
}