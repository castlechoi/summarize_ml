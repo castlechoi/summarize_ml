{
  "nbformat": 4,
  "nbformat_minor": 0,
  "metadata": {
    "colab": {
      "provenance": [],
      "authorship_tag": "ABX9TyPqFjA47DQJDAXK7QRt6Xl6"
    },
    "kernelspec": {
      "name": "python3",
      "display_name": "Python 3"
    },
    "language_info": {
      "name": "python"
    }
  },
  "cells": [
    {
      "cell_type": "markdown",
      "source": [
        "# Path from google drive"
      ],
      "metadata": {
        "id": "N7nsiYCOZzov"
      }
    },
    {
      "cell_type": "code",
      "execution_count": null,
      "metadata": {
        "colab": {
          "base_uri": "https://localhost:8080/"
        },
        "id": "4-xXQsFCZi46",
        "outputId": "b9bc0b6a-09cd-4aa4-d5e4-71563fc1f0a5"
      },
      "outputs": [
        {
          "output_type": "stream",
          "name": "stdout",
          "text": [
            "Mounted at ./content\n"
          ]
        }
      ],
      "source": [
        "from google.colab import drive\n",
        "drive.mount('./content')"
      ]
    },
    {
      "cell_type": "code",
      "source": [
        "ls content/MyDrive/dataset/Titanic"
      ],
      "metadata": {
        "colab": {
          "base_uri": "https://localhost:8080/"
        },
        "id": "rx9JdVzVZzmK",
        "outputId": "da3fe41b-b091-4847-94cc-1a55d025453e"
      },
      "execution_count": null,
      "outputs": [
        {
          "output_type": "stream",
          "name": "stdout",
          "text": [
            "test.csv  train.csv\n"
          ]
        }
      ]
    },
    {
      "cell_type": "code",
      "source": [
        "cd content/MyDrive/dataset/Titanic"
      ],
      "metadata": {
        "colab": {
          "base_uri": "https://localhost:8080/"
        },
        "id": "XkDg6myoaHi9",
        "outputId": "72e82e8a-c7dd-42c4-c3c2-6ca4a07db1ca"
      },
      "execution_count": null,
      "outputs": [
        {
          "output_type": "stream",
          "name": "stdout",
          "text": [
            "/content/content/MyDrive/dataset/Titanic\n"
          ]
        }
      ]
    },
    {
      "cell_type": "markdown",
      "source": [
        "# Data Load"
      ],
      "metadata": {
        "id": "zUr_IbxlZlyQ"
      }
    },
    {
      "cell_type": "code",
      "source": [
        "import numpy as np\n",
        "import pandas as pd\n",
        "from sklearn.preprocessing import MinMaxScaler\n",
        "from sklearn.preprocessing import LabelEncoder\n",
        "\n",
        "import random"
      ],
      "metadata": {
        "id": "oJPKdItQaJfj"
      },
      "execution_count": null,
      "outputs": []
    },
    {
      "cell_type": "code",
      "source": [
        "# fixed random seed\n",
        "random.seed(42)"
      ],
      "metadata": {
        "id": "DR0w4PrNCm3D"
      },
      "execution_count": null,
      "outputs": []
    },
    {
      "cell_type": "code",
      "source": [
        "train_df = pd.read_csv('./train.csv')\n",
        "test_df = pd.read_csv('./test.csv')"
      ],
      "metadata": {
        "id": "ECd5m7l6brCe"
      },
      "execution_count": null,
      "outputs": []
    },
    {
      "cell_type": "markdown",
      "source": [
        "# EDA"
      ],
      "metadata": {
        "id": "KDm9cNY2byhi"
      }
    },
    {
      "cell_type": "code",
      "source": [
        "train_df.info()"
      ],
      "metadata": {
        "colab": {
          "base_uri": "https://localhost:8080/"
        },
        "id": "_UGzeIt1bw0O",
        "outputId": "75bc0e3a-6215-4720-894e-acf607925105"
      },
      "execution_count": null,
      "outputs": [
        {
          "output_type": "stream",
          "name": "stdout",
          "text": [
            "<class 'pandas.core.frame.DataFrame'>\n",
            "RangeIndex: 891 entries, 0 to 890\n",
            "Data columns (total 12 columns):\n",
            " #   Column       Non-Null Count  Dtype  \n",
            "---  ------       --------------  -----  \n",
            " 0   PassengerId  891 non-null    int64  \n",
            " 1   Survived     891 non-null    int64  \n",
            " 2   Pclass       891 non-null    int64  \n",
            " 3   Name         891 non-null    object \n",
            " 4   Sex          891 non-null    object \n",
            " 5   Age          714 non-null    float64\n",
            " 6   SibSp        891 non-null    int64  \n",
            " 7   Parch        891 non-null    int64  \n",
            " 8   Ticket       891 non-null    object \n",
            " 9   Fare         891 non-null    float64\n",
            " 10  Cabin        204 non-null    object \n",
            " 11  Embarked     889 non-null    object \n",
            "dtypes: float64(2), int64(5), object(5)\n",
            "memory usage: 83.7+ KB\n"
          ]
        }
      ]
    },
    {
      "cell_type": "markdown",
      "source": [
        "## Feature Engineering\n",
        "* pclass : Ticket class  \n",
        "* SibSp : slibling/ spuses 단순 가족 relationship  \n",
        "* parch : 동승 가족 수   \n",
        "* Ticket : ticket num  \n",
        "* Cabin : Cabin number  \n",
        "* Embarked : port  \n",
        "\n",
        "May be not affected to survived  : [PassengerId, Name, Ticket, Embarked]  \n",
        "categoical columns : [ Sex,Cabin ]  "
      ],
      "metadata": {
        "id": "PIgDaxpLYOCn"
      }
    },
    {
      "cell_type": "code",
      "source": [
        "del_columns = ['PassengerId','Name','Ticket','Embarked']\n",
        "\n",
        "train_x = train_df.drop(columns = del_columns)\n",
        "train_x = train_x.drop(columns = ['Survived'])\n",
        "train_y = train_df['Survived'] # pd.Series\n",
        "\n",
        "test_x = test_df.drop(columns = del_columns)"
      ],
      "metadata": {
        "id": "tmVo5-3Rb-2W"
      },
      "execution_count": null,
      "outputs": []
    },
    {
      "cell_type": "markdown",
      "source": [
        "* Cabin_sector : Cabin에 해당하는 알파벳  \n",
        "* Cabin_cnt : 같은 Cabin을 사용하는 사람. 즉, 동승자  "
      ],
      "metadata": {
        "id": "_OQ861haX1Zf"
      }
    },
    {
      "cell_type": "code",
      "source": [
        "# sector\n",
        "cabin_sector_train = train_x['Cabin'].fillna('Z')\n",
        "cabin_sector_test = test_x['Cabin'].fillna('Z')\n",
        "for i in range(len(cabin_sector_train)):\n",
        "  cabin_sector_train[i] = cabin_sector_train[i][0]\n",
        "for i in range(len(cabin_sector_test)):\n",
        "  cabin_sector_test[i] = cabin_sector_test[i][0]\n",
        "train_x['Cabin_sector'] = cabin_sector_train\n",
        "test_x['Cabin_sector'] = cabin_sector_test\n",
        "\n",
        "# count same cabin\n",
        "train_cabin_cnt = []\n",
        "test_cabin_cnt = []\n",
        "for i in range(len(train_x)):\n",
        "  if train_x['Cabin'][i] != 'NaN':\n",
        "    train_cabin_cnt.append(train_x['Cabin'][train_x['Cabin'] == train_x['Cabin'][i]].count())\n",
        "  else:\n",
        "    train_cabin_cnt.append(0)\n",
        "for i in range(len(test_x)):\n",
        "  if test_x['Cabin'][i] != 'NaN':\n",
        "    test_cabin_cnt.append(test_x['Cabin'][test_x['Cabin'] == test_x['Cabin'][i]].count())\n",
        "  else:\n",
        "    test_cabin_cnt.append(0)\n",
        "\n",
        "train_x['Cabin_cnt'] = train_cabin_cnt\n",
        "test_x['Cabin_cnt'] = test_cabin_cnt\n",
        "\n",
        "train_x.drop('Cabin',axis =1 ,inplace = True)\n",
        "test_x.drop('Cabin', axis = 1, inplace = True)"
      ],
      "metadata": {
        "id": "JDckkQrxOSHG"
      },
      "execution_count": null,
      "outputs": []
    },
    {
      "cell_type": "markdown",
      "source": [
        "Preprocessing Age and Fare"
      ],
      "metadata": {
        "id": "COsMS_5GfPy5"
      }
    },
    {
      "cell_type": "code",
      "source": [
        "train_x['Fare'] = np.log(train_x['Fare'] + 0.01)\n",
        "test_x['Fare'] = np.log(test_x['Fare'] + 0.01)\n",
        "train_x.describe()"
      ],
      "metadata": {
        "colab": {
          "base_uri": "https://localhost:8080/"
        },
        "id": "uObtgYcHeKRg",
        "outputId": "4174511c-e1c5-4adc-8240-8c06e56d95a5"
      },
      "execution_count": null,
      "outputs": [
        {
          "output_type": "execute_result",
          "data": {
            "text/plain": [
              "           Pclass         Age       SibSp       Parch        Fare   Cabin_cnt\n",
              "count  891.000000  714.000000  891.000000  891.000000  891.000000  891.000000\n",
              "mean     2.308642   29.699118    0.523008    0.381594    2.817036    0.388328\n",
              "std      0.836071   14.526497    1.102743    0.806057    1.343804    0.819454\n",
              "min      1.000000    0.420000    0.000000    0.000000   -4.605170    0.000000\n",
              "25%      2.000000   20.125000    0.000000    0.000000    2.069440    0.000000\n",
              "50%      3.000000   28.000000    0.000000    0.000000    2.671677    0.000000\n",
              "75%      3.000000   38.000000    1.000000    0.000000    3.434310    0.000000\n",
              "max      3.000000   80.000000    8.000000    6.000000    6.238987    4.000000"
            ],
            "text/html": [
              "\n",
              "  <div id=\"df-67ed9412-674b-43e8-8b4a-8872ff982ccf\">\n",
              "    <div class=\"colab-df-container\">\n",
              "      <div>\n",
              "<style scoped>\n",
              "    .dataframe tbody tr th:only-of-type {\n",
              "        vertical-align: middle;\n",
              "    }\n",
              "\n",
              "    .dataframe tbody tr th {\n",
              "        vertical-align: top;\n",
              "    }\n",
              "\n",
              "    .dataframe thead th {\n",
              "        text-align: right;\n",
              "    }\n",
              "</style>\n",
              "<table border=\"1\" class=\"dataframe\">\n",
              "  <thead>\n",
              "    <tr style=\"text-align: right;\">\n",
              "      <th></th>\n",
              "      <th>Pclass</th>\n",
              "      <th>Age</th>\n",
              "      <th>SibSp</th>\n",
              "      <th>Parch</th>\n",
              "      <th>Fare</th>\n",
              "      <th>Cabin_cnt</th>\n",
              "    </tr>\n",
              "  </thead>\n",
              "  <tbody>\n",
              "    <tr>\n",
              "      <th>count</th>\n",
              "      <td>891.000000</td>\n",
              "      <td>714.000000</td>\n",
              "      <td>891.000000</td>\n",
              "      <td>891.000000</td>\n",
              "      <td>891.000000</td>\n",
              "      <td>891.000000</td>\n",
              "    </tr>\n",
              "    <tr>\n",
              "      <th>mean</th>\n",
              "      <td>2.308642</td>\n",
              "      <td>29.699118</td>\n",
              "      <td>0.523008</td>\n",
              "      <td>0.381594</td>\n",
              "      <td>2.817036</td>\n",
              "      <td>0.388328</td>\n",
              "    </tr>\n",
              "    <tr>\n",
              "      <th>std</th>\n",
              "      <td>0.836071</td>\n",
              "      <td>14.526497</td>\n",
              "      <td>1.102743</td>\n",
              "      <td>0.806057</td>\n",
              "      <td>1.343804</td>\n",
              "      <td>0.819454</td>\n",
              "    </tr>\n",
              "    <tr>\n",
              "      <th>min</th>\n",
              "      <td>1.000000</td>\n",
              "      <td>0.420000</td>\n",
              "      <td>0.000000</td>\n",
              "      <td>0.000000</td>\n",
              "      <td>-4.605170</td>\n",
              "      <td>0.000000</td>\n",
              "    </tr>\n",
              "    <tr>\n",
              "      <th>25%</th>\n",
              "      <td>2.000000</td>\n",
              "      <td>20.125000</td>\n",
              "      <td>0.000000</td>\n",
              "      <td>0.000000</td>\n",
              "      <td>2.069440</td>\n",
              "      <td>0.000000</td>\n",
              "    </tr>\n",
              "    <tr>\n",
              "      <th>50%</th>\n",
              "      <td>3.000000</td>\n",
              "      <td>28.000000</td>\n",
              "      <td>0.000000</td>\n",
              "      <td>0.000000</td>\n",
              "      <td>2.671677</td>\n",
              "      <td>0.000000</td>\n",
              "    </tr>\n",
              "    <tr>\n",
              "      <th>75%</th>\n",
              "      <td>3.000000</td>\n",
              "      <td>38.000000</td>\n",
              "      <td>1.000000</td>\n",
              "      <td>0.000000</td>\n",
              "      <td>3.434310</td>\n",
              "      <td>0.000000</td>\n",
              "    </tr>\n",
              "    <tr>\n",
              "      <th>max</th>\n",
              "      <td>3.000000</td>\n",
              "      <td>80.000000</td>\n",
              "      <td>8.000000</td>\n",
              "      <td>6.000000</td>\n",
              "      <td>6.238987</td>\n",
              "      <td>4.000000</td>\n",
              "    </tr>\n",
              "  </tbody>\n",
              "</table>\n",
              "</div>\n",
              "      <button class=\"colab-df-convert\" onclick=\"convertToInteractive('df-67ed9412-674b-43e8-8b4a-8872ff982ccf')\"\n",
              "              title=\"Convert this dataframe to an interactive table.\"\n",
              "              style=\"display:none;\">\n",
              "        \n",
              "  <svg xmlns=\"http://www.w3.org/2000/svg\" height=\"24px\"viewBox=\"0 0 24 24\"\n",
              "       width=\"24px\">\n",
              "    <path d=\"M0 0h24v24H0V0z\" fill=\"none\"/>\n",
              "    <path d=\"M18.56 5.44l.94 2.06.94-2.06 2.06-.94-2.06-.94-.94-2.06-.94 2.06-2.06.94zm-11 1L8.5 8.5l.94-2.06 2.06-.94-2.06-.94L8.5 2.5l-.94 2.06-2.06.94zm10 10l.94 2.06.94-2.06 2.06-.94-2.06-.94-.94-2.06-.94 2.06-2.06.94z\"/><path d=\"M17.41 7.96l-1.37-1.37c-.4-.4-.92-.59-1.43-.59-.52 0-1.04.2-1.43.59L10.3 9.45l-7.72 7.72c-.78.78-.78 2.05 0 2.83L4 21.41c.39.39.9.59 1.41.59.51 0 1.02-.2 1.41-.59l7.78-7.78 2.81-2.81c.8-.78.8-2.07 0-2.86zM5.41 20L4 18.59l7.72-7.72 1.47 1.35L5.41 20z\"/>\n",
              "  </svg>\n",
              "      </button>\n",
              "      \n",
              "  <style>\n",
              "    .colab-df-container {\n",
              "      display:flex;\n",
              "      flex-wrap:wrap;\n",
              "      gap: 12px;\n",
              "    }\n",
              "\n",
              "    .colab-df-convert {\n",
              "      background-color: #E8F0FE;\n",
              "      border: none;\n",
              "      border-radius: 50%;\n",
              "      cursor: pointer;\n",
              "      display: none;\n",
              "      fill: #1967D2;\n",
              "      height: 32px;\n",
              "      padding: 0 0 0 0;\n",
              "      width: 32px;\n",
              "    }\n",
              "\n",
              "    .colab-df-convert:hover {\n",
              "      background-color: #E2EBFA;\n",
              "      box-shadow: 0px 1px 2px rgba(60, 64, 67, 0.3), 0px 1px 3px 1px rgba(60, 64, 67, 0.15);\n",
              "      fill: #174EA6;\n",
              "    }\n",
              "\n",
              "    [theme=dark] .colab-df-convert {\n",
              "      background-color: #3B4455;\n",
              "      fill: #D2E3FC;\n",
              "    }\n",
              "\n",
              "    [theme=dark] .colab-df-convert:hover {\n",
              "      background-color: #434B5C;\n",
              "      box-shadow: 0px 1px 3px 1px rgba(0, 0, 0, 0.15);\n",
              "      filter: drop-shadow(0px 1px 2px rgba(0, 0, 0, 0.3));\n",
              "      fill: #FFFFFF;\n",
              "    }\n",
              "  </style>\n",
              "\n",
              "      <script>\n",
              "        const buttonEl =\n",
              "          document.querySelector('#df-67ed9412-674b-43e8-8b4a-8872ff982ccf button.colab-df-convert');\n",
              "        buttonEl.style.display =\n",
              "          google.colab.kernel.accessAllowed ? 'block' : 'none';\n",
              "\n",
              "        async function convertToInteractive(key) {\n",
              "          const element = document.querySelector('#df-67ed9412-674b-43e8-8b4a-8872ff982ccf');\n",
              "          const dataTable =\n",
              "            await google.colab.kernel.invokeFunction('convertToInteractive',\n",
              "                                                     [key], {});\n",
              "          if (!dataTable) return;\n",
              "\n",
              "          const docLinkHtml = 'Like what you see? Visit the ' +\n",
              "            '<a target=\"_blank\" href=https://colab.research.google.com/notebooks/data_table.ipynb>data table notebook</a>'\n",
              "            + ' to learn more about interactive tables.';\n",
              "          element.innerHTML = '';\n",
              "          dataTable['output_type'] = 'display_data';\n",
              "          await google.colab.output.renderOutput(dataTable, element);\n",
              "          const docLink = document.createElement('div');\n",
              "          docLink.innerHTML = docLinkHtml;\n",
              "          element.appendChild(docLink);\n",
              "        }\n",
              "      </script>\n",
              "    </div>\n",
              "  </div>\n",
              "  "
            ]
          },
          "metadata": {},
          "execution_count": 358
        }
      ]
    },
    {
      "cell_type": "code",
      "source": [
        "train_x['Fare'] = train_x['Fare'] // 1\n",
        "test_x['Fare'] = test_x['Fare'] // 1\n",
        "# Age discrete\n",
        "train_x['Age'] = train_x['Age'] // 10\n",
        "test_x['Age'] = test_x['Age'] // 10"
      ],
      "metadata": {
        "id": "hVKbQeDkrD1S"
      },
      "execution_count": null,
      "outputs": []
    },
    {
      "cell_type": "markdown",
      "source": [
        "## Data Visualization"
      ],
      "metadata": {
        "id": "Kydao2_SXwFX"
      }
    },
    {
      "cell_type": "code",
      "source": [
        "import matplotlib.pyplot as plt\n",
        "plt.figure(figsize = (10,10))\n",
        "for i ,col in enumerate(train_x.columns):\n",
        "  plt.subplot(3,3,i+1)\n",
        "  val_count = train_x[col].value_counts().sort_index()\n",
        "  if col == 'Age' or col == 'Fare':\n",
        "    plt.plot(range(len(val_count)), val_count)\n",
        "  else:\n",
        "    plt.bar(range(len(val_count)),val_count)\n",
        "  plt.xticks(range(len(val_count)), val_count.index)\n",
        "  plt.title(col)\n",
        "plt.show()"
      ],
      "metadata": {
        "colab": {
          "base_uri": "https://localhost:8080/"
        },
        "id": "-umtmt3dF0P0",
        "outputId": "68d16821-2114-48d2-8e88-0a6ac0475a8a"
      },
      "execution_count": null,
      "outputs": [
        {
          "output_type": "display_data",
          "data": {
            "text/plain": [
              "<Figure size 1000x1000 with 8 Axes>"
            ],
            "image/png": "[encoded data removed]"
          },
          "metadata": {}
        }
      ]
    },
    {
      "cell_type": "markdown",
      "source": [
        "PClass와 Cabin_sector의 연관성이 높은 것을 확인\n"
      ],
      "metadata": {
        "id": "SY_QIT9-ZKb3"
      }
    },
    {
      "cell_type": "code",
      "source": [
        "import seaborn as sns\n",
        "sns.heatmap(train_x.corr(), annot=True)"
      ],
      "metadata": {
        "colab": {
          "base_uri": "https://localhost:8080/"
        },
        "id": "r9TueVXLWsgX",
        "outputId": "378e6d3c-dde4-4f37-e785-c0f60d71bfa6"
      },
      "execution_count": null,
      "outputs": [
        {
          "output_type": "execute_result",
          "data": {
            "text/plain": [
              "<Axes: >"
            ]
          },
          "metadata": {},
          "execution_count": 361
        },
        {
          "output_type": "display_data",
          "data": {
            "text/plain": [
              "<Figure size 640x480 with 2 Axes>"
            ],
            "image/png": "[encoded data removed]"
          },
          "metadata": {}
        }
      ]
    },
    {
      "cell_type": "markdown",
      "source": [
        "## Preprocessing missing values"
      ],
      "metadata": {
        "id": "DV3ldPZTY4Hf"
      }
    },
    {
      "cell_type": "code",
      "source": [
        "# count nan\n",
        "train_x.count()"
      ],
      "metadata": {
        "colab": {
          "base_uri": "https://localhost:8080/"
        },
        "id": "CxZvUN_SLws8",
        "outputId": "49d6cfe9-1589-4074-9c2b-3f9fba9ca5eb"
      },
      "execution_count": null,
      "outputs": [
        {
          "output_type": "execute_result",
          "data": {
            "text/plain": [
              "Pclass          891\n",
              "Sex             891\n",
              "Age             714\n",
              "SibSp           891\n",
              "Parch           891\n",
              "Fare            891\n",
              "Cabin_sector    891\n",
              "Cabin_cnt       891\n",
              "dtype: int64"
            ]
          },
          "metadata": {},
          "execution_count": 362
        }
      ]
    },
    {
      "cell_type": "code",
      "source": [
        "train_x['Age'].fillna(-1, inplace = True)\n",
        "test_x['Age'].fillna(-1, inplace = True)\n",
        "\n",
        "train_x.fillna(-1,inplace = True)\n",
        "test_x.fillna(-1,inplace = True)"
      ],
      "metadata": {
        "id": "E5xkKUZ3MWLU"
      },
      "execution_count": null,
      "outputs": []
    },
    {
      "cell_type": "markdown",
      "source": [
        "## Transform Cateforical values to label values"
      ],
      "metadata": {
        "id": "h17TXNGcZTvn"
      }
    },
    {
      "cell_type": "code",
      "source": [
        "categorical_columns = ['Sex','Cabin_sector']\n",
        "\n",
        "for col in categorical_columns:\n",
        "  le = LabelEncoder()\n",
        "  train_x[col] = le.fit_transform(train_x[col])\n",
        "  test_x[col] = le.fit_transform(test_x[col])"
      ],
      "metadata": {
        "id": "NjpB_1lpEQgD"
      },
      "execution_count": null,
      "outputs": []
    },
    {
      "cell_type": "markdown",
      "source": [
        "# Training"
      ],
      "metadata": {
        "id": "7doxnJntaCzH"
      }
    },
    {
      "cell_type": "markdown",
      "source": [
        "Use LightGBM for training"
      ],
      "metadata": {
        "id": "k-rjZ1SeaNfO"
      }
    },
    {
      "cell_type": "code",
      "source": [
        "import lightgbm as lgb\n",
        "from sklearn.ensemble import RandomForestClassifier\n",
        "\n",
        "from sklearn.model_selection import train_test_split\n",
        "from sklearn.model_selection import GridSearchCV\n",
        "from sklearn.linear_model import LogisticRegression"
      ],
      "metadata": {
        "id": "x1Oo869AaEH-"
      },
      "execution_count": null,
      "outputs": []
    },
    {
      "cell_type": "code",
      "source": [
        "model = lgb.LGBMClassifier(\n",
        "    n_jobs = -1, \n",
        "    random_seed = 42,\n",
        "    boosting_type = 'gbdt',\n",
        "    objective = 'binary',\n",
        "    learning_rate = 0.03,\n",
        "    num_leaves = 63,\n",
        "    max_depth = None,\n",
        "    n_estimators = 100\n",
        "    )\n",
        "\n",
        "model_rf = RandomForestClassifier(\n",
        "    n_jobs = -1,\n",
        "    max_depth = None,\n",
        "    min_samples_split = 10\n",
        "    )\n",
        "\n",
        "model_li = LogisticRegression(\n",
        "    penalty = 'l2',\n",
        "    random_state = 42,\n",
        "    class_weight = 'balanced'\n",
        ")\n",
        "param = {\n",
        "    'min_child_samples' : [10,16]\n",
        "}\n",
        "param_rf = {\n",
        "    'min_samples_leaf' : [4,6,8]\n",
        "}\n",
        "param_li = {\n",
        "    'C' : [1.0,0.9,0.7],\n",
        "    'solver' : ['lbfgs', 'liblinear','newton-cg'],\n",
        "    'max_iter' : [100,300,500]\n",
        "}\n",
        "\n",
        "grid_search= GridSearchCV(model, param_grid=param, cv=5, refit=True)\n",
        "grid_search.fit(train_x,train_y)\n",
        "\n",
        "print(f'GridSearchCV 최적 파라미터: { grid_search.best_params_ }')\n",
        "print('GridSearchCV 최고 정확도:{0:.4f}'.format(grid_search.best_score_))\n",
        "\n",
        "grid_search_rf= GridSearchCV(model_rf, param_grid=param_rf, cv=5, refit=True)\n",
        "grid_search_rf.fit(train_x,train_y)\n",
        "\n",
        "print(f'GridSearchCV 최적 파라미터: { grid_search_rf.best_params_ }')\n",
        "print('GridSearchCV 최고 정확도:{0:.4f}'.format(grid_search_rf.best_score_))\n",
        "\n",
        "grid_search_li= GridSearchCV(model_li, param_grid=param_li, cv=5, refit=True)\n",
        "grid_search_li.fit(train_x,train_y)\n",
        "\n",
        "print(f'GridSearchCV 최적 파라미터: { grid_search_li.best_params_ }')\n",
        "print('GridSearchCV 최고 정확도:{0:.4f}'.format(grid_search_li.best_score_))"
      ],
      "metadata": {
        "colab": {
          "base_uri": "https://localhost:8080/"
        },
        "id": "jo1Px7cTaRI_",
        "outputId": "32582cd8-9c78-45d2-beb8-09875baf98b6"
      },
      "execution_count": null,
      "outputs": [
        {
          "output_type": "stream",
          "name": "stdout",
          "text": [
            "GridSearchCV 최적 파라미터: {'min_child_samples': 10}\n",
            "GridSearchCV 최고 정확도:0.8317\n",
            "GridSearchCV 최적 파라미터: {'min_samples_leaf': 4}\n",
            "GridSearchCV 최고 정확도:0.8126\n",
            "GridSearchCV 최적 파라미터: {'C': 0.9, 'max_iter': 100, 'solver': 'liblinear'}\n",
            "GridSearchCV 최고 정확도:0.7733\n"
          ]
        }
      ]
    },
    {
      "cell_type": "markdown",
      "source": [
        "# Inference"
      ],
      "metadata": {
        "id": "MS1f8JwEbbT_"
      }
    },
    {
      "cell_type": "code",
      "source": [
        "estimator = grid_search.best_estimator_\n",
        "pred_lgbm = estimator.predict_proba(test_x)\n",
        "estimator_rf = grid_search_rf.best_estimator_\n",
        "pred_rf = estimator_rf.predict_proba(test_x)\n",
        "estimator_li = grid_search_li.best_estimator_\n",
        "pred_li = estimator_li.predict_proba(test_x)\n",
        "pred = []\n",
        "for i in range(len(pred_lgbm)):\n",
        "  pred.append([(pred_lgbm[i][0] + pred_rf[i][0] + pred_li[i][0])/3, (pred_lgbm[i][1] + pred_rf[i][1] + pred_li[i][1])/3])\n",
        "pred = np.array(pred).reshape(-1,2)\n",
        "pred = np.argmax(pred, axis = 1)"
      ],
      "metadata": {
        "id": "9RidOLA9bauw"
      },
      "execution_count": null,
      "outputs": []
    },
    {
      "cell_type": "code",
      "source": [
        "ans_df = pd.DataFrame(columns =['PassengerId', 'Survived'], index = test_df.index)\n",
        "ans_df['PassengerId'] = test_df['PassengerId']\n",
        "ans_df['Survived'] = pred"
      ],
      "metadata": {
        "id": "0sSzW9KJf4zR"
      },
      "execution_count": null,
      "outputs": []
    },
    {
      "cell_type": "code",
      "source": [
        "ans_df.to_csv('submission.csv', index = False)"
      ],
      "metadata": {
        "id": "p-QaWVRPgnFo"
      },
      "execution_count": null,
      "outputs": []
    },
    {
      "cell_type": "code",
      "source": [
        "df = pd.read_csv('./submission.csv')\n",
        "df"
      ],
      "metadata": {
        "colab": {
          "base_uri": "https://localhost:8080/",
          "height": 503
        },
        "id": "NOYNV2WrhlwJ",
        "outputId": "9144dc4e-043b-4ee9-c767-b739d40ec316"
      },
      "execution_count": null,
      "outputs": [
        {
          "output_type": "execute_result",
          "data": {
            "text/plain": [
              "     PassengerId  Survived\n",
              "0            892         0\n",
              "1            893         0\n",
              "2            894         0\n",
              "3            895         0\n",
              "4            896         0\n",
              "..           ...       ...\n",
              "413         1305         0\n",
              "414         1306         1\n",
              "415         1307         0\n",
              "416         1308         0\n",
              "417         1309         0\n",
              "\n",
              "[418 rows x 2 columns]"
            ],
            "text/html": [
              "\n",
              "  <div id=\"df-02256e38-13f5-468e-b93d-7e4fee399c9a\">\n",
              "    <div class=\"colab-df-container\">\n",
              "      <div>\n",
              "<style scoped>\n",
              "    .dataframe tbody tr th:only-of-type {\n",
              "        vertical-align: middle;\n",
              "    }\n",
              "\n",
              "    .dataframe tbody tr th {\n",
              "        vertical-align: top;\n",
              "    }\n",
              "\n",
              "    .dataframe thead th {\n",
              "        text-align: right;\n",
              "    }\n",
              "</style>\n",
              "<table border=\"1\" class=\"dataframe\">\n",
              "  <thead>\n",
              "    <tr style=\"text-align: right;\">\n",
              "      <th></th>\n",
              "      <th>PassengerId</th>\n",
              "      <th>Survived</th>\n",
              "    </tr>\n",
              "  </thead>\n",
              "  <tbody>\n",
              "    <tr>\n",
              "      <th>0</th>\n",
              "      <td>892</td>\n",
              "      <td>0</td>\n",
              "    </tr>\n",
              "    <tr>\n",
              "      <th>1</th>\n",
              "      <td>893</td>\n",
              "      <td>0</td>\n",
              "    </tr>\n",
              "    <tr>\n",
              "      <th>2</th>\n",
              "      <td>894</td>\n",
              "      <td>0</td>\n",
              "    </tr>\n",
              "    <tr>\n",
              "      <th>3</th>\n",
              "      <td>895</td>\n",
              "      <td>0</td>\n",
              "    </tr>\n",
              "    <tr>\n",
              "      <th>4</th>\n",
              "      <td>896</td>\n",
              "      <td>0</td>\n",
              "    </tr>\n",
              "    <tr>\n",
              "      <th>...</th>\n",
              "      <td>...</td>\n",
              "      <td>...</td>\n",
              "    </tr>\n",
              "    <tr>\n",
              "      <th>413</th>\n",
              "      <td>1305</td>\n",
              "      <td>0</td>\n",
              "    </tr>\n",
              "    <tr>\n",
              "      <th>414</th>\n",
              "      <td>1306</td>\n",
              "      <td>1</td>\n",
              "    </tr>\n",
              "    <tr>\n",
              "      <th>415</th>\n",
              "      <td>1307</td>\n",
              "      <td>0</td>\n",
              "    </tr>\n",
              "    <tr>\n",
              "      <th>416</th>\n",
              "      <td>1308</td>\n",
              "      <td>0</td>\n",
              "    </tr>\n",
              "    <tr>\n",
              "      <th>417</th>\n",
              "      <td>1309</td>\n",
              "      <td>0</td>\n",
              "    </tr>\n",
              "  </tbody>\n",
              "</table>\n",
              "<p>418 rows × 2 columns</p>\n",
              "</div>\n",
              "      <button class=\"colab-df-convert\" onclick=\"convertToInteractive('df-02256e38-13f5-468e-b93d-7e4fee399c9a')\"\n",
              "              title=\"Convert this dataframe to an interactive table.\"\n",
              "              style=\"display:none;\">\n",
              "        \n",
              "  <svg xmlns=\"http://www.w3.org/2000/svg\" height=\"24px\"viewBox=\"0 0 24 24\"\n",
              "       width=\"24px\">\n",
              "    <path d=\"M0 0h24v24H0V0z\" fill=\"none\"/>\n",
              "    <path d=\"M18.56 5.44l.94 2.06.94-2.06 2.06-.94-2.06-.94-.94-2.06-.94 2.06-2.06.94zm-11 1L8.5 8.5l.94-2.06 2.06-.94-2.06-.94L8.5 2.5l-.94 2.06-2.06.94zm10 10l.94 2.06.94-2.06 2.06-.94-2.06-.94-.94-2.06-.94 2.06-2.06.94z\"/><path d=\"M17.41 7.96l-1.37-1.37c-.4-.4-.92-.59-1.43-.59-.52 0-1.04.2-1.43.59L10.3 9.45l-7.72 7.72c-.78.78-.78 2.05 0 2.83L4 21.41c.39.39.9.59 1.41.59.51 0 1.02-.2 1.41-.59l7.78-7.78 2.81-2.81c.8-.78.8-2.07 0-2.86zM5.41 20L4 18.59l7.72-7.72 1.47 1.35L5.41 20z\"/>\n",
              "  </svg>\n",
              "      </button>\n",
              "      \n",
              "  <style>\n",
              "    .colab-df-container {\n",
              "      display:flex;\n",
              "      flex-wrap:wrap;\n",
              "      gap: 12px;\n",
              "    }\n",
              "\n",
              "    .colab-df-convert {\n",
              "      background-color: #E8F0FE;\n",
              "      border: none;\n",
              "      border-radius: 50%;\n",
              "      cursor: pointer;\n",
              "      display: none;\n",
              "      fill: #1967D2;\n",
              "      height: 32px;\n",
              "      padding: 0 0 0 0;\n",
              "      width: 32px;\n",
              "    }\n",
              "\n",
              "    .colab-df-convert:hover {\n",
              "      background-color: #E2EBFA;\n",
              "      box-shadow: 0px 1px 2px rgba(60, 64, 67, 0.3), 0px 1px 3px 1px rgba(60, 64, 67, 0.15);\n",
              "      fill: #174EA6;\n",
              "    }\n",
              "\n",
              "    [theme=dark] .colab-df-convert {\n",
              "      background-color: #3B4455;\n",
              "      fill: #D2E3FC;\n",
              "    }\n",
              "\n",
              "    [theme=dark] .colab-df-convert:hover {\n",
              "      background-color: #434B5C;\n",
              "      box-shadow: 0px 1px 3px 1px rgba(0, 0, 0, 0.15);\n",
              "      filter: drop-shadow(0px 1px 2px rgba(0, 0, 0, 0.3));\n",
              "      fill: #FFFFFF;\n",
              "    }\n",
              "  </style>\n",
              "\n",
              "      <script>\n",
              "        const buttonEl =\n",
              "          document.querySelector('#df-02256e38-13f5-468e-b93d-7e4fee399c9a button.colab-df-convert');\n",
              "        buttonEl.style.display =\n",
              "          google.colab.kernel.accessAllowed ? 'block' : 'none';\n",
              "\n",
              "        async function convertToInteractive(key) {\n",
              "          const element = document.querySelector('#df-02256e38-13f5-468e-b93d-7e4fee399c9a');\n",
              "          const dataTable =\n",
              "            await google.colab.kernel.invokeFunction('convertToInteractive',\n",
              "                                                     [key], {});\n",
              "          if (!dataTable) return;\n",
              "\n",
              "          const docLinkHtml = 'Like what you see? Visit the ' +\n",
              "            '<a target=\"_blank\" href=https://colab.research.google.com/notebooks/data_table.ipynb>data table notebook</a>'\n",
              "            + ' to learn more about interactive tables.';\n",
              "          element.innerHTML = '';\n",
              "          dataTable['output_type'] = 'display_data';\n",
              "          await google.colab.output.renderOutput(dataTable, element);\n",
              "          const docLink = document.createElement('div');\n",
              "          docLink.innerHTML = docLinkHtml;\n",
              "          element.appendChild(docLink);\n",
              "        }\n",
              "      </script>\n",
              "    </div>\n",
              "  </div>\n",
              "  "
            ]
          },
          "metadata": {},
          "execution_count": 374
        }
      ]
    }
  ]
}