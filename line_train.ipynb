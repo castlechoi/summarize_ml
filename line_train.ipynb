{
  "nbformat": 4,
  "nbformat_minor": 0,
  "metadata": {
    "colab": {
      "provenance": [],
      "authorship_tag": "ABX9TyORTBaIdGAGx57dLM0S0476"
    },
    "kernelspec": {
      "name": "python3",
      "display_name": "Python 3"
    },
    "language_info": {
      "name": "python"
    }
  },
  "cells": [
    {
      "cell_type": "markdown",
      "source": [
        "###pre"
      ],
      "metadata": {
        "id": "fiwK03v1P3tJ"
      }
    },
    {
      "cell_type": "code",
      "execution_count": 231,
      "metadata": {
        "id": "zQWtFd32OLUA"
      },
      "outputs": [],
      "source": [
        "import pandas as pd\n",
        "import numpy as np\n",
        "\n",
        "from sklearn.preprocessing import LabelEncoder\n",
        "from sklearn.ensemble import RandomForestRegressor, GradientBoostingRegressor, GradientBoostingClassifier\n",
        "from sklearn.linear_model import Lasso,Ridge\n",
        "\n",
        "import matplotlib.pyplot as plt"
      ]
    },
    {
      "cell_type": "code",
      "source": [
        "train_df = pd.read_csv('./train.csv')\n",
        "test_df = pd.read_csv('./test.csv')"
      ],
      "metadata": {
        "id": "sPTuTNhnOseO"
      },
      "execution_count": 232,
      "outputs": []
    },
    {
      "cell_type": "code",
      "source": [
        "train_x = train_df.drop(columns = ['TIMESTAMP','PRODUCT_ID', 'Y_Quality','Y_Class'])\n",
        "train_y = train_df[['Y_Quality','LINE']]\n",
        "test_x = test_df.drop(columns = ['TIMESTAMP','PRODUCT_ID'])"
      ],
      "metadata": {
        "id": "GA8er46iO1oW"
      },
      "execution_count": 233,
      "outputs": []
    },
    {
      "cell_type": "code",
      "source": [
        "product_lst = ['A_31','T_31','O_31']\n",
        "line_lst = ['T050304', 'T050307', 'T100304', 'T100306', 'T010306', 'T010305']"
      ],
      "metadata": {
        "id": "9LmUA9Eu1g0a"
      },
      "execution_count": 234,
      "outputs": []
    },
    {
      "cell_type": "code",
      "source": [
        "train_df['LINE'].unique()"
      ],
      "metadata": {
        "colab": {
          "base_uri": "https://localhost:8080/"
        },
        "id": "-AHf13X89xAj",
        "outputId": "8eeadfd3-ffb3-4d32-d011-ad9bc5c55e87"
      },
      "execution_count": 235,
      "outputs": [
        {
          "output_type": "execute_result",
          "data": {
            "text/plain": [
              "array(['T050304', 'T050307', 'T100304', 'T100306', 'T010306', 'T010305'],\n",
              "      dtype=object)"
            ]
          },
          "metadata": {},
          "execution_count": 235
        }
      ]
    },
    {
      "cell_type": "code",
      "source": [
        "qual_col = ['LINE', 'PRODUCT_CODE']\n",
        "\n",
        "for i in qual_col:\n",
        "    le = LabelEncoder()\n",
        "    le = le.fit(train_x[i])\n",
        "    train_x[i] = le.transform(train_x[i])\n",
        "    if i == 'LINE':\n",
        "      print(le.transform(line_lst))\n",
        "    \n",
        "    for label in np.unique(test_x[i]): \n",
        "        if label not in le.classes_: \n",
        "            le.classes_ = np.append(le.classes_, label)\n",
        "    test_x[i] = le.transform(test_x[i])\n",
        "print('Done.')"
      ],
      "metadata": {
        "colab": {
          "base_uri": "https://localhost:8080/"
        },
        "id": "t6fDHBnoXf3U",
        "outputId": "22cdf0b2-ddc2-4eb4-cdef-89ef362744ce"
      },
      "execution_count": 236,
      "outputs": [
        {
          "output_type": "stream",
          "name": "stdout",
          "text": [
            "[2 3 4 5 1 0]\n",
            "Done.\n"
          ]
        }
      ]
    },
    {
      "cell_type": "code",
      "source": [
        "train_a = train_x[train_x['LINE'] == 2]\n",
        "train_b = train_x[train_x['LINE'] == 3]\n",
        "train_c = train_x[train_x['LINE'] == 4]\n",
        "train_d = train_x[train_x['LINE'] == 5]\n",
        "train_e = train_x[train_x['LINE'] == 1]\n",
        "train_f = train_x[train_x['LINE'] == 0]\n",
        "\n",
        "\n",
        "train_a_y = train_y[train_y['LINE'] == line_lst[0]]\n",
        "train_b_y = train_y[train_y['LINE'] == line_lst[1]]\n",
        "train_c_y = train_y[train_y['LINE'] == line_lst[2]]\n",
        "train_d_y = train_y[train_y['LINE'] == line_lst[3]]\n",
        "train_e_y = train_y[train_y['LINE'] == line_lst[4]]\n",
        "train_f_y = train_y[train_y['LINE'] == line_lst[5]]\n",
        "train_a_y = train_a_y['Y_Quality']\n",
        "train_b_y = train_b_y['Y_Quality']\n",
        "train_c_y = train_c_y['Y_Quality']\n",
        "train_d_y = train_d_y['Y_Quality']\n",
        "train_e_y = train_e_y['Y_Quality']\n",
        "train_f_y = train_f_y['Y_Quality']\n",
        "\n",
        "test_a = test_x[test_x['LINE'] == 2]\n",
        "test_b = test_x[test_x['LINE'] == 3]\n",
        "test_c = test_x[test_x['LINE'] == 4]\n",
        "test_d = test_x[test_x['LINE'] == 5]\n",
        "test_e = test_x[test_x['LINE'] == 1]\n",
        "test_f = test_x[test_x['LINE'] == 0]\n",
        "\n",
        "col = train_x.columns\n",
        "na_a_col = []\n",
        "na_b_col = []\n",
        "na_c_col = []\n",
        "na_d_col = []\n",
        "na_e_col = []\n",
        "na_f_col = []\n",
        "for i in col:\n",
        "  if train_a[i].count() == 0:\n",
        "    na_a_col.append(i)\n",
        "  if train_b[i].count() == 0:\n",
        "    na_b_col.append(i)\n",
        "  if train_c[i].count() == 0:\n",
        "    na_c_col.append(i)\n",
        "  if train_d[i].count() == 0:\n",
        "    na_d_col.append(i)\n",
        "  if train_e[i].count() == 0:\n",
        "    na_e_col.append(i)\n",
        "  if train_f[i].count() == 0:\n",
        "    na_f_col.append(i)\n",
        "\n",
        "train_a.drop(na_a_col, axis = 1, inplace = True)\n",
        "train_b.drop(na_b_col, axis = 1, inplace = True)\n",
        "train_c.drop(na_c_col, axis = 1, inplace = True)\n",
        "train_d.drop(na_d_col, axis = 1, inplace = True)\n",
        "train_e.drop(na_e_col, axis = 1, inplace = True)\n",
        "train_f.drop(na_f_col, axis = 1, inplace = True)\n",
        "\n",
        "test_a.drop(na_a_col, axis = 1, inplace = True)\n",
        "test_b.drop(na_b_col, axis = 1, inplace = True)\n",
        "test_c.drop(na_c_col, axis = 1, inplace = True)\n",
        "test_d.drop(na_d_col, axis = 1, inplace = True)\n",
        "test_e.drop(na_e_col, axis = 1, inplace = True)\n",
        "test_f.drop(na_f_col, axis = 1, inplace = True)\n",
        "print(f\"Shape of each Line : \\n{train_a.shape}  \\n{train_b.shape} \\n{train_c.shape}\\\n",
        " \\n{train_d.shape} \\n{train_e.shape} \\n{train_f.shape}\")"
      ],
      "metadata": {
        "colab": {
          "base_uri": "https://localhost:8080/"
        },
        "id": "5sao3uefPIaG",
        "outputId": "260a5a30-3a3e-4b29-d87d-6ef519a3b7ae"
      },
      "execution_count": 237,
      "outputs": [
        {
          "output_type": "stream",
          "name": "stdout",
          "text": [
            "Shape of each Line : \n",
            "(78, 1970)  \n",
            "(42, 1977) \n",
            "(175, 673) \n",
            "(174, 673) \n",
            "(70, 888) \n",
            "(59, 888)\n"
          ]
        },
        {
          "output_type": "stream",
          "name": "stderr",
          "text": [
            "/usr/local/lib/python3.8/dist-packages/pandas/core/frame.py:4906: SettingWithCopyWarning: \n",
            "A value is trying to be set on a copy of a slice from a DataFrame\n",
            "\n",
            "See the caveats in the documentation: https://pandas.pydata.org/pandas-docs/stable/user_guide/indexing.html#returning-a-view-versus-a-copy\n",
            "  return super().drop(\n"
          ]
        }
      ]
    },
    {
      "cell_type": "code",
      "source": [
        "print(train_a['PRODUCT_CODE'].unique())\n",
        "print(train_b['PRODUCT_CODE'].unique())\n",
        "print(train_c['PRODUCT_CODE'].unique())\n",
        "print(train_d['PRODUCT_CODE'].unique())\n",
        "print(train_e['PRODUCT_CODE'].unique())\n",
        "print(train_f['PRODUCT_CODE'].unique())"
      ],
      "metadata": {
        "colab": {
          "base_uri": "https://localhost:8080/"
        },
        "id": "mulh_0n63zsi",
        "outputId": "3ce2fd19-79e7-4a75-b034-a805b506f567"
      },
      "execution_count": 238,
      "outputs": [
        {
          "output_type": "stream",
          "name": "stdout",
          "text": [
            "[0]\n",
            "[0]\n",
            "[2 1]\n",
            "[2 1]\n",
            "[0]\n",
            "[0]\n"
          ]
        }
      ]
    },
    {
      "cell_type": "code",
      "source": [
        "train_a = train_a.fillna(0)\n",
        "train_b = train_b.fillna(0)\n",
        "train_c = train_c.fillna(0)\n",
        "train_d = train_d.fillna(0)\n",
        "train_e = train_e.fillna(0)\n",
        "train_f = train_f.fillna(0)\n",
        "\n",
        "test_a = test_a.fillna(0)\n",
        "test_b = test_b.fillna(0)\n",
        "test_c = test_c.fillna(0)\n",
        "test_d = test_d.fillna(0)\n",
        "test_e = test_e.fillna(0)\n",
        "test_f = test_f.fillna(0)"
      ],
      "metadata": {
        "id": "BkCCcKGDUc28"
      },
      "execution_count": 239,
      "outputs": []
    },
    {
      "cell_type": "code",
      "source": [
        "# 각 라인별로 특성값이 하나 밖에 없는 값 제거\n",
        "train_total = [train_a, train_b, train_c, train_d, train_e, train_f]\n",
        "test_total = [test_a,test_b,test_c,test_d,test_e,test_f]\n",
        "for idx, t_df in enumerate(train_total):\n",
        "  tmp = []\n",
        "  for i in t_df:\n",
        "    if i == 'LINE' or i == 'PRODUCT_CODE':\n",
        "      continue\n",
        "    if len(t_df[i].unique()) < 2:\n",
        "      tmp.append(i)\n",
        "  t_df.drop(tmp, axis = 1, inplace = True)\n",
        "  test_total[idx].drop(tmp, axis = 1, inplace = True)\n",
        "  print(f\"{line_lst[idx]} : {t_df.shape}\")"
      ],
      "metadata": {
        "colab": {
          "base_uri": "https://localhost:8080/"
        },
        "id": "A4JoSgZL4Myh",
        "outputId": "9f5ffabe-5dbb-42c9-aeb8-b5bb1f5946a0"
      },
      "execution_count": 240,
      "outputs": [
        {
          "output_type": "stream",
          "name": "stdout",
          "text": [
            "T050304 : (78, 1722)\n",
            "T050307 : (42, 1726)\n",
            "T100304 : (175, 571)\n",
            "T100306 : (174, 543)\n",
            "T010306 : (70, 733)\n",
            "T010305 : (59, 732)\n"
          ]
        }
      ]
    },
    {
      "cell_type": "code",
      "source": [],
      "metadata": {
        "id": "kJpC5SrpBY48"
      },
      "execution_count": 240,
      "outputs": []
    },
    {
      "cell_type": "markdown",
      "source": [
        "### 라쏘"
      ],
      "metadata": {
        "id": "uF4Icf-8U50A"
      }
    },
    {
      "cell_type": "code",
      "source": [
        "RF_a = GradientBoostingRegressor(n_estimators = 500).fit(train_a, train_a_y)\n",
        "RF_b = GradientBoostingRegressor(n_estimators = 500).fit(train_b, train_b_y)\n",
        "RF_c = GradientBoostingRegressor(n_estimators = 500).fit(train_c, train_c_y)\n",
        "RF_d = GradientBoostingRegressor(n_estimators = 500).fit(train_d, train_d_y)\n",
        "RF_e = GradientBoostingRegressor(n_estimators = 500).fit(train_e, train_e_y)\n",
        "RF_f = GradientBoostingRegressor(n_estimators = 500).fit(train_f, train_f_y)"
      ],
      "metadata": {
        "id": "i-v6c8q-Wl7Y"
      },
      "execution_count": 241,
      "outputs": []
    },
    {
      "cell_type": "code",
      "source": [
        "pred_a = RF_a.predict(test_a)\n",
        "pred_b = RF_b.predict(test_b)\n",
        "pred_c = RF_c.predict(test_c)\n",
        "pred_d = RF_d.predict(test_d)\n",
        "pred_e = RF_e.predict(test_e)\n",
        "pred_f = RF_f.predict(test_f)"
      ],
      "metadata": {
        "id": "DMiDhHVIXomH"
      },
      "execution_count": 242,
      "outputs": []
    },
    {
      "cell_type": "code",
      "source": [
        "print(test_a.shape)\n",
        "print(test_b.shape)\n",
        "print(test_c.shape)\n",
        "print(test_d.shape)\n",
        "print(test_e.shape)\n",
        "print(test_f.shape)"
      ],
      "metadata": {
        "colab": {
          "base_uri": "https://localhost:8080/"
        },
        "id": "7DW2l3pGBurZ",
        "outputId": "e9f83cde-1e94-4708-adf2-3d1033679386"
      },
      "execution_count": 243,
      "outputs": [
        {
          "output_type": "stream",
          "name": "stdout",
          "text": [
            "(13, 1722)\n",
            "(26, 1726)\n",
            "(111, 571)\n",
            "(132, 543)\n",
            "(14, 733)\n",
            "(14, 732)\n"
          ]
        }
      ]
    },
    {
      "cell_type": "markdown",
      "source": [
        "###pre"
      ],
      "metadata": {
        "id": "NNhoBUGo-ogI"
      }
    },
    {
      "cell_type": "code",
      "source": [
        "train_df = pd.read_csv('./train.csv')\n",
        "test_df = pd.read_csv('./test.csv')"
      ],
      "metadata": {
        "id": "QaFoL9iR-ogR"
      },
      "execution_count": 244,
      "outputs": []
    },
    {
      "cell_type": "code",
      "source": [
        "train_x = train_df.drop(columns = ['TIMESTAMP','PRODUCT_ID','Y_Class'])\n",
        "train_y = train_df[['Y_Class','LINE']]\n",
        "test_x = test_df.drop(columns = ['TIMESTAMP','PRODUCT_ID'])"
      ],
      "metadata": {
        "id": "GCFxeQ5S-ogR"
      },
      "execution_count": 245,
      "outputs": []
    },
    {
      "cell_type": "code",
      "source": [
        "product_lst = ['A_31','T_31','O_31']\n",
        "line_lst = ['T050304', 'T050307', 'T100304', 'T100306', 'T010306', 'T010305']"
      ],
      "metadata": {
        "id": "z9CnuCyt-ogR"
      },
      "execution_count": 246,
      "outputs": []
    },
    {
      "cell_type": "code",
      "source": [
        "qual_col = ['LINE', 'PRODUCT_CODE']\n",
        "\n",
        "for i in qual_col:\n",
        "    le = LabelEncoder()\n",
        "    le = le.fit(train_x[i])\n",
        "    train_x[i] = le.transform(train_x[i])\n",
        "    if i == 'LINE':\n",
        "      print(le.transform(line_lst))\n",
        "    \n",
        "    for label in np.unique(test_x[i]): \n",
        "        if label not in le.classes_: \n",
        "            le.classes_ = np.append(le.classes_, label)\n",
        "    test_x[i] = le.transform(test_x[i])\n",
        "print('Done.')"
      ],
      "metadata": {
        "colab": {
          "base_uri": "https://localhost:8080/"
        },
        "outputId": "b69c7ef5-795e-4852-83a9-92a7c9aa1e3e",
        "id": "NmHNEZtf-ogR"
      },
      "execution_count": 247,
      "outputs": [
        {
          "output_type": "stream",
          "name": "stdout",
          "text": [
            "[2 3 4 5 1 0]\n",
            "Done.\n"
          ]
        }
      ]
    },
    {
      "cell_type": "code",
      "source": [
        "train_a = train_x[train_x['LINE'] == 2]\n",
        "train_b = train_x[train_x['LINE'] == 3]\n",
        "train_c = train_x[train_x['LINE'] == 4]\n",
        "train_d = train_x[train_x['LINE'] == 5]\n",
        "train_e = train_x[train_x['LINE'] == 1]\n",
        "train_f = train_x[train_x['LINE'] == 0]\n",
        "\n",
        "\n",
        "train_a_y = train_y[train_y['LINE'] == line_lst[0]]\n",
        "train_b_y = train_y[train_y['LINE'] == line_lst[1]]\n",
        "train_c_y = train_y[train_y['LINE'] == line_lst[2]]\n",
        "train_d_y = train_y[train_y['LINE'] == line_lst[3]]\n",
        "train_e_y = train_y[train_y['LINE'] == line_lst[4]]\n",
        "train_f_y = train_y[train_y['LINE'] == line_lst[5]]\n",
        "train_a_y = train_a_y['Y_Class']\n",
        "train_b_y = train_b_y['Y_Class']\n",
        "train_c_y = train_c_y['Y_Class']\n",
        "train_d_y = train_d_y['Y_Class']\n",
        "train_e_y = train_e_y['Y_Class']\n",
        "train_f_y = train_f_y['Y_Class']\n",
        "\n",
        "test_a = test_x[test_x['LINE'] == 2]\n",
        "test_b = test_x[test_x['LINE'] == 3]\n",
        "test_c = test_x[test_x['LINE'] == 4]\n",
        "test_d = test_x[test_x['LINE'] == 5]\n",
        "test_e = test_x[test_x['LINE'] == 1]\n",
        "test_f = test_x[test_x['LINE'] == 0]\n",
        "\n",
        "col = train_x.columns\n",
        "na_a_col = []\n",
        "na_b_col = []\n",
        "na_c_col = []\n",
        "na_d_col = []\n",
        "na_e_col = []\n",
        "na_f_col = []\n",
        "for i in col:\n",
        "  if train_a[i].count() == 0:\n",
        "    na_a_col.append(i)\n",
        "  if train_b[i].count() == 0:\n",
        "    na_b_col.append(i)\n",
        "  if train_c[i].count() == 0:\n",
        "    na_c_col.append(i)\n",
        "  if train_d[i].count() == 0:\n",
        "    na_d_col.append(i)\n",
        "  if train_e[i].count() == 0:\n",
        "    na_e_col.append(i)\n",
        "  if train_f[i].count() == 0:\n",
        "    na_f_col.append(i)\n",
        "\n",
        "train_a.drop(na_a_col, axis = 1, inplace = True)\n",
        "train_b.drop(na_b_col, axis = 1, inplace = True)\n",
        "train_c.drop(na_c_col, axis = 1, inplace = True)\n",
        "train_d.drop(na_d_col, axis = 1, inplace = True)\n",
        "train_e.drop(na_e_col, axis = 1, inplace = True)\n",
        "train_f.drop(na_f_col, axis = 1, inplace = True)\n",
        "\n",
        "test_a.drop(na_a_col, axis = 1, inplace = True)\n",
        "test_b.drop(na_b_col, axis = 1, inplace = True)\n",
        "test_c.drop(na_c_col, axis = 1, inplace = True)\n",
        "test_d.drop(na_d_col, axis = 1, inplace = True)\n",
        "test_e.drop(na_e_col, axis = 1, inplace = True)\n",
        "test_f.drop(na_f_col, axis = 1, inplace = True)\n",
        "print(f\"Shape of each Line : \\n{train_a.shape}  \\n{train_b.shape} \\n{train_c.shape}\\\n",
        " \\n{train_d.shape} \\n{train_e.shape} \\n{train_f.shape}\")"
      ],
      "metadata": {
        "colab": {
          "base_uri": "https://localhost:8080/"
        },
        "outputId": "f9a020d3-e5df-4e57-9a66-80261a9141b1",
        "id": "mRea524D-ogS"
      },
      "execution_count": 248,
      "outputs": [
        {
          "output_type": "stream",
          "name": "stdout",
          "text": [
            "Shape of each Line : \n",
            "(78, 1971)  \n",
            "(42, 1978) \n",
            "(175, 674) \n",
            "(174, 674) \n",
            "(70, 889) \n",
            "(59, 889)\n"
          ]
        },
        {
          "output_type": "stream",
          "name": "stderr",
          "text": [
            "/usr/local/lib/python3.8/dist-packages/pandas/core/frame.py:4906: SettingWithCopyWarning: \n",
            "A value is trying to be set on a copy of a slice from a DataFrame\n",
            "\n",
            "See the caveats in the documentation: https://pandas.pydata.org/pandas-docs/stable/user_guide/indexing.html#returning-a-view-versus-a-copy\n",
            "  return super().drop(\n"
          ]
        }
      ]
    },
    {
      "cell_type": "code",
      "source": [
        "train_a = train_a.fillna(0)\n",
        "train_b = train_b.fillna(0)\n",
        "train_c = train_c.fillna(0)\n",
        "train_d = train_d.fillna(0)\n",
        "train_e = train_e.fillna(0)\n",
        "train_f = train_f.fillna(0)\n",
        "\n",
        "test_a = test_a.fillna(0)\n",
        "test_b = test_b.fillna(0)\n",
        "test_c = test_c.fillna(0)\n",
        "test_d = test_d.fillna(0)\n",
        "test_e = test_e.fillna(0)\n",
        "test_f = test_f.fillna(0)"
      ],
      "metadata": {
        "id": "P_iL57NA-ogS"
      },
      "execution_count": 249,
      "outputs": []
    },
    {
      "cell_type": "code",
      "source": [
        "# 각 라인별로 특성값이 하나 밖에 없는 값 제거\n",
        "train_total = [train_a, train_b, train_c, train_d, train_e, train_f]\n",
        "test_total = [test_a, test_b,test_c,test_d,test_e,test_f]\n",
        "for idx, t_df in enumerate(train_total):\n",
        "  tmp = []\n",
        "  for i in t_df:\n",
        "    if i == 'LINE' or i == 'PRODUCT_CODE':\n",
        "      continue\n",
        "    if len(t_df[i].unique()) < 2:\n",
        "      tmp.append(i)\n",
        "  t_df.drop(tmp, axis = 1, inplace = True)\n",
        "  test_total[idx].drop(tmp, axis = 1, inplace = True)\n",
        "  print(f\"{line_lst[idx]} : {t_df.shape}\")"
      ],
      "metadata": {
        "colab": {
          "base_uri": "https://localhost:8080/"
        },
        "outputId": "c4b3a202-13d4-49d9-be66-d094de8c6aba",
        "id": "g7UG3fUf-ogS"
      },
      "execution_count": 250,
      "outputs": [
        {
          "output_type": "stream",
          "name": "stdout",
          "text": [
            "T050304 : (78, 1723)\n",
            "T050307 : (42, 1727)\n",
            "T100304 : (175, 572)\n",
            "T100306 : (174, 544)\n",
            "T010306 : (70, 734)\n",
            "T010305 : (59, 733)\n"
          ]
        }
      ]
    },
    {
      "cell_type": "code",
      "source": [
        "test_a['Y_Quality'] = pred_a\n",
        "test_b['Y_Quality'] = pred_b\n",
        "test_c['Y_Quality'] = pred_c\n",
        "test_d['Y_Quality'] = pred_d\n",
        "test_e['Y_Quality'] = pred_e\n",
        "test_f['Y_Quality'] = pred_f"
      ],
      "metadata": {
        "id": "-v8esOf6-_dW"
      },
      "execution_count": 251,
      "outputs": []
    },
    {
      "cell_type": "code",
      "source": [
        "RF_a = GradientBoostingClassifier(n_estimators = 500).fit(train_a, train_a_y)\n",
        "RF_b = GradientBoostingClassifier(n_estimators = 500).fit(train_b, train_b_y)\n",
        "RF_c = GradientBoostingClassifier(n_estimators = 500).fit(train_c, train_c_y)\n",
        "RF_d = GradientBoostingClassifier(n_estimators = 500).fit(train_d, train_d_y)\n",
        "RF_e = GradientBoostingClassifier(n_estimators = 500).fit(train_e, train_e_y)\n",
        "RF_f = GradientBoostingClassifier(n_estimators = 500).fit(train_f, train_f_y)"
      ],
      "metadata": {
        "id": "OkrUnLzV_LPb"
      },
      "execution_count": null,
      "outputs": []
    },
    {
      "cell_type": "code",
      "source": [
        "pred_ac = RF_a.predict(test_a)\n",
        "pred_bc = RF_b.predict(test_b)\n",
        "pred_cc = RF_c.predict(test_c)\n",
        "pred_dc = RF_d.predict(test_d)\n",
        "pred_ec = RF_e.predict(test_e)\n",
        "pred_fc = RF_f.predict(test_f)"
      ],
      "metadata": {
        "id": "ZbfaFzDr_U_7"
      },
      "execution_count": null,
      "outputs": []
    },
    {
      "cell_type": "code",
      "source": [
        "print(pred_ac.shape)\n",
        "print(pred_bc.shape)\n",
        "print(pred_cc.shape)\n",
        "print(pred_dc.shape)\n",
        "print(pred_ec.shape)\n",
        "print(pred_fc.shape)"
      ],
      "metadata": {
        "id": "285CGXmsDsVb"
      },
      "execution_count": null,
      "outputs": []
    },
    {
      "cell_type": "code",
      "source": [
        "for i in qual_col:\n",
        "    le = LabelEncoder()\n",
        "    le = le.fit(train_x[i])\n",
        "    train_x[i] = le.transform(train_x[i])\n",
        "    \n",
        "    for label in np.unique(test_x[i]): \n",
        "        if label not in le.classes_: \n",
        "            le.classes_ = np.append(le.classes_, label)\n",
        "    test_x[i] = le.transform(test_x[i])\n",
        "print('Done.')"
      ],
      "metadata": {
        "id": "KHXZJ4i1EGYY"
      },
      "execution_count": null,
      "outputs": []
    },
    {
      "cell_type": "code",
      "source": [
        "test_pred = []\n",
        "cnt = [0 for i in range(6)]\n",
        "test_prd = test_x['LINE']\n",
        "for idx,i in enumerate(test_prd):\n",
        "  if i == 2:\n",
        "    test_pred.append(pred_ac[cnt[0]])\n",
        "    cnt[0] += 1\n",
        "  elif i == 3:\n",
        "    test_pred.append(pred_bc[cnt[1]])\n",
        "    cnt[1] += 1\n",
        "  elif i == 4:\n",
        "    test_pred.append(pred_cc[cnt[2]])\n",
        "    cnt[2] += 1\n",
        "  elif i == 5:\n",
        "    test_pred.append(pred_dc[cnt[3]])\n",
        "    cnt[3] += 1\n",
        "  elif i == 1:\n",
        "    test_pred.append(pred_ec[cnt[4]])\n",
        "    cnt[4] += 1\n",
        "  else:\n",
        "    test_pred.append(pred_fc[cnt[5]])\n",
        "    cnt[5] += 1"
      ],
      "metadata": {
        "id": "O1YdJuDK_eh_"
      },
      "execution_count": null,
      "outputs": []
    },
    {
      "cell_type": "code",
      "source": [
        "submit = pd.read_csv('./sample_submission.csv')\n",
        "submit['Y_Class'] = test_pred\n",
        "submit.to_csv('./baseline_submission.csv', index=False)"
      ],
      "metadata": {
        "id": "xa3zmTaPAIRH"
      },
      "execution_count": null,
      "outputs": []
    }
  ]
}