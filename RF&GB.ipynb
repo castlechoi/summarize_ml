{
  "nbformat": 4,
  "nbformat_minor": 0,
  "metadata": {
    "colab": {
      "provenance": [],
      "authorship_tag": "ABX9TyPopl6AoehEFWv/bb/NLmiC"
    },
    "kernelspec": {
      "name": "python3",
      "display_name": "Python 3"
    },
    "language_info": {
      "name": "python"
    }
  },
  "cells": [
    {
      "cell_type": "code",
      "execution_count": 73,
      "metadata": {
        "id": "I1PbnJ4-ImS2"
      },
      "outputs": [],
      "source": [
        "import pandas as pd\n",
        "import random\n",
        "import os\n",
        "import numpy as np\n",
        "\n",
        "from sklearn.preprocessing import LabelEncoder\n",
        "from sklearn.ensemble import RandomForestClassifier\n",
        "from sklearn.ensemble import GradientBoostingClassifier\n",
        "\n",
        "from tqdm import tqdm\n",
        "\n",
        "import matplotlib.pyplot as plt\n",
        "\n",
        "from sklearn.preprocessing import MinMaxScaler\n",
        "from sklearn.preprocessing import StandardScaler"
      ]
    },
    {
      "cell_type": "code",
      "source": [
        "def seed_everything(seed):\n",
        "    random.seed(seed)\n",
        "    os.environ['PYTHONHASHSEED'] = str(seed)\n",
        "    np.random.seed(seed)\n",
        "seed_everything(42) # Seed 고정"
      ],
      "metadata": {
        "id": "HB0qlslrIoJZ"
      },
      "execution_count": 74,
      "outputs": []
    },
    {
      "cell_type": "code",
      "source": [
        "train_df = pd.read_csv('./train.csv')\n",
        "train_x = train_df.drop(columns=['PRODUCT_ID', 'TIMESTAMP', 'Y_Class', 'Y_Quality'])\n",
        "train_y = train_df['Y_Class']"
      ],
      "metadata": {
        "id": "Y2_Nyu2DIpPJ"
      },
      "execution_count": 75,
      "outputs": []
    },
    {
      "cell_type": "code",
      "source": [
        "test_acc = ['NA_0','NA_-1','NA_MEAN_0','NA_MEAN_-1','NA_MODE','NA_MODE_-1']\n",
        "scaling = ['Original','MinMaxScaler','StandardScaler']\n",
        "model_lst = ['RF','GB']\n",
        "acc = []\n",
        "gb_acc = []\n",
        "\n",
        "train_x_group = []\n",
        "train_x_group.append(train_x.fillna(0))\n",
        "train_x_group.append(train_x.fillna(-1))\n",
        "train_x_group.append(train_x.fillna(train_x.mean().fillna(0)))\n",
        "train_x_group.append(train_x.fillna(train_x.mean().fillna(-1)))\n",
        "train_x_group.append(train_x.fillna(train_x.mode().loc[0].fillna(0)))\n",
        "train_x_group.append(train_x.fillna(train_x.mode().loc[0].fillna(-1)))"
      ],
      "metadata": {
        "id": "MxUhNx4wIr1Z",
        "colab": {
          "base_uri": "https://localhost:8080/"
        },
        "outputId": "ee3ef437-f1c0-4dd4-b1dd-7ca6f36352f2"
      },
      "execution_count": 76,
      "outputs": [
        {
          "output_type": "stream",
          "name": "stderr",
          "text": [
            "<ipython-input-76-0fd496858fe8>:10: FutureWarning: Dropping of nuisance columns in DataFrame reductions (with 'numeric_only=None') is deprecated; in a future version this will raise TypeError.  Select only valid columns before calling the reduction.\n",
            "  train_x_group.append(train_x.fillna(train_x.mean().fillna(0)))\n",
            "<ipython-input-76-0fd496858fe8>:11: FutureWarning: Dropping of nuisance columns in DataFrame reductions (with 'numeric_only=None') is deprecated; in a future version this will raise TypeError.  Select only valid columns before calling the reduction.\n",
            "  train_x_group.append(train_x.fillna(train_x.mean().fillna(-1)))\n"
          ]
        }
      ]
    },
    {
      "cell_type": "code",
      "source": [
        "# qualitative to quantitative\n",
        "qual_col = ['LINE', 'PRODUCT_CODE']\n",
        "\n",
        "for train_case in train_x_group:\n",
        "  for i in qual_col:\n",
        "      le = LabelEncoder()\n",
        "      le = le.fit(train_case[i])\n",
        "      train_case[i] = le.transform(train_case[i])\n",
        "print('Done.')"
      ],
      "metadata": {
        "colab": {
          "base_uri": "https://localhost:8080/"
        },
        "id": "BaEhTuquItN5",
        "outputId": "54268011-b11e-4cd4-da7a-01c4d1577490"
      },
      "execution_count": 77,
      "outputs": [
        {
          "output_type": "stream",
          "name": "stdout",
          "text": [
            "Done.\n"
          ]
        }
      ]
    },
    {
      "cell_type": "code",
      "source": [
        "for train_case in train_x_group:\n",
        "  print(f'type : {type(train_case)} , Shape : {train_case.shape}')\n",
        "print(f'type : {type(train_y)}, Shape : {train_y.shape}')"
      ],
      "metadata": {
        "colab": {
          "base_uri": "https://localhost:8080/"
        },
        "id": "lcuBXe5OoIz2",
        "outputId": "5efbf155-3e2e-460c-b828-045ae8e4309c"
      },
      "execution_count": 78,
      "outputs": [
        {
          "output_type": "stream",
          "name": "stdout",
          "text": [
            "type : <class 'pandas.core.frame.DataFrame'> , Shape : (598, 2877)\n",
            "type : <class 'pandas.core.frame.DataFrame'> , Shape : (598, 2877)\n",
            "type : <class 'pandas.core.frame.DataFrame'> , Shape : (598, 2877)\n",
            "type : <class 'pandas.core.frame.DataFrame'> , Shape : (598, 2877)\n",
            "type : <class 'pandas.core.frame.DataFrame'> , Shape : (598, 2877)\n",
            "type : <class 'pandas.core.frame.DataFrame'> , Shape : (598, 2877)\n",
            "type : <class 'pandas.core.series.Series'>, Shape : (598,)\n"
          ]
        }
      ]
    },
    {
      "cell_type": "code",
      "source": [
        "train_Xs = []\n",
        "test_Xs = []\n",
        "for train_case in train_x_group:\n",
        "  train_Xs.append(train_case.loc[:499])\n",
        "  test_Xs.append(train_case.loc[500:])\n",
        "com_train_y = train_y[:500]\n",
        "com_test_y = train_y[500:]\n",
        "print(com_test_y.shape)"
      ],
      "metadata": {
        "id": "mnWEYTh1IukB",
        "colab": {
          "base_uri": "https://localhost:8080/"
        },
        "outputId": "93c80676-74e3-416d-87d9-78cb3d0bcc55"
      },
      "execution_count": 79,
      "outputs": [
        {
          "output_type": "stream",
          "name": "stdout",
          "text": [
            "(98,)\n"
          ]
        }
      ]
    },
    {
      "cell_type": "code",
      "source": [
        "\"\"\" Non scaled data classification\"\"\"\n",
        "print(\"Trainig RandomForest...\")\n",
        "for i in tqdm(range(len(train_Xs))):\n",
        "  RF = RandomForestClassifier(random_state=37).fit(train_Xs[i], com_train_y)\n",
        "  y_pred = RF.predict(test_Xs[i])\n",
        "  score = 0\n",
        "  tmp_test_np = com_test_y.values\n",
        "  for i in range(len(y_pred)):\n",
        "    if y_pred[i] == tmp_test_np[i]:\n",
        "      score = score + 1\n",
        "  acc.append(score / len(y_pred) * 100)\n",
        "print(\"Done\")\n",
        "\n",
        "print(\"Trainig GradientBoosting...\")\n",
        "for i in tqdm(range(len(train_Xs))):\n",
        "  GB = GradientBoostingClassifier(random_state=37).fit(train_Xs[i], com_train_y)\n",
        "  y_pred = GB.predict(test_Xs[i])\n",
        "  score = 0\n",
        "  tmp_test_np = com_test_y.values\n",
        "  for i in range(len(y_pred)):\n",
        "    if y_pred[i] == tmp_test_np[i]:\n",
        "      score = score + 1\n",
        "  gb_acc.append(score / len(y_pred) * 100)\n",
        "print(\"Done\")"
      ],
      "metadata": {
        "id": "noFpz2Wcoaae",
        "colab": {
          "base_uri": "https://localhost:8080/"
        },
        "outputId": "66e0f43e-8b54-42af-8ecb-9f97d317f8bd"
      },
      "execution_count": 80,
      "outputs": [
        {
          "output_type": "stream",
          "name": "stderr",
          "text": [
            "100%|██████████| 6/6 [00:03<00:00,  1.88it/s]\n",
            "100%|██████████| 6/6 [02:03<00:00, 20.59s/it]\n"
          ]
        }
      ]
    },
    {
      "cell_type": "code",
      "source": [
        "\"\"\" Scaled data classification\"\"\"\n",
        "scaled_train_x = []\n",
        "scaled_test_x = []\n",
        "print(\"Using MinMaxScaler...\")\n",
        "for i in tqdm(range(len(train_Xs))):\n",
        "  mm = MinMaxScaler()\n",
        "  fitted = mm.fit(train_Xs[i])\n",
        "  train_mm = mm.transform(train_Xs[i])\n",
        "  train_mm = pd.DataFrame(train_mm, columns = train_Xs[i].columns, index = list(train_Xs[i].index.values))\n",
        "  scaled_train_x.append(train_mm)\n",
        "  mm = MinMaxScaler()\n",
        "  fitted = mm.fit(test_Xs[i])\n",
        "  test_mm = mm.transform(test_Xs[i])\n",
        "  test_mm = pd.DataFrame(test_mm, columns = test_Xs[i].columns, index = list(test_Xs[i].index.values))\n",
        "  scaled_test_x.append(test_mm)\n",
        "print(\"Done\")\n",
        "\n",
        "print(\"Trainig RandomForest modified by MinMaxScaler...\")\n",
        "for i in tqdm(range(len(scaled_train_x))):\n",
        "  RF = RandomForestClassifier(random_state=37).fit(scaled_train_x[i], com_train_y)\n",
        "  y_pred = RF.predict(scaled_test_x[i])\n",
        "  score = 0\n",
        "  tmp_test_np = com_test_y.values\n",
        "  for i in range(len(y_pred)):\n",
        "    if y_pred[i] == tmp_test_np[i]:\n",
        "      score = score + 1\n",
        "  acc.append(score / len(y_pred) * 100)\n",
        "print(\"Done\")\n",
        "\n",
        "print(\"Trainig Gradient Boosting modified by MinMaxScaler...\")\n",
        "for i in tqdm(range(len(scaled_train_x))):\n",
        "  GB = GradientBoostingClassifier(random_state=37).fit(scaled_train_x[i], com_train_y)\n",
        "  y_pred = GB.predict(scaled_test_x[i])\n",
        "  score = 0\n",
        "  tmp_test_np = com_test_y.values\n",
        "  for i in range(len(y_pred)):\n",
        "    if y_pred[i] == tmp_test_np[i]:\n",
        "      score = score + 1\n",
        "  gb_acc.append(score / len(y_pred) * 100)\n",
        "print(\"Done\")"
      ],
      "metadata": {
        "colab": {
          "base_uri": "https://localhost:8080/"
        },
        "id": "uuwUwAGSpyIR",
        "outputId": "c8be6bce-34d1-4091-b50c-bab73bc722e8"
      },
      "execution_count": 81,
      "outputs": [
        {
          "output_type": "stream",
          "name": "stdout",
          "text": [
            "Trainig Original modified by MinMaxScaler...\n"
          ]
        },
        {
          "output_type": "stream",
          "name": "stderr",
          "text": [
            "100%|██████████| 6/6 [00:00<00:00, 13.48it/s]\n"
          ]
        },
        {
          "output_type": "stream",
          "name": "stdout",
          "text": [
            "Trainig RandomForest modified by MinMaxScaler...\n"
          ]
        },
        {
          "output_type": "stream",
          "name": "stderr",
          "text": [
            "100%|██████████| 6/6 [00:03<00:00,  1.89it/s]\n"
          ]
        },
        {
          "output_type": "stream",
          "name": "stdout",
          "text": [
            "Trainig Gradient Boosting modified by MinMaxScaler...\n"
          ]
        },
        {
          "output_type": "stream",
          "name": "stderr",
          "text": [
            "100%|██████████| 6/6 [01:45<00:00, 17.54s/it]\n"
          ]
        }
      ]
    },
    {
      "cell_type": "code",
      "source": [
        "\"\"\" Standard Scaled data classification\"\"\"\n",
        "scaled_train_x = []\n",
        "scaled_test_x = []\n",
        "print(\"Using StandardScaler...\")\n",
        "for i in tqdm(range(len(train_Xs))):\n",
        "  mm = StandardScaler()\n",
        "  fitted = mm.fit(train_Xs[i])\n",
        "  train_mm = mm.transform(train_Xs[i])\n",
        "  train_mm = pd.DataFrame(train_mm, columns = train_Xs[i].columns, index = list(train_Xs[i].index.values))\n",
        "  scaled_train_x.append(train_mm)\n",
        "  mm = StandardScaler()\n",
        "  fitted = mm.fit(test_Xs[i])\n",
        "  test_mm = mm.transform(test_Xs[i])\n",
        "  test_mm = pd.DataFrame(test_mm, columns = test_Xs[i].columns, index = list(test_Xs[i].index.values))\n",
        "  scaled_test_x.append(test_mm)\n",
        "print(\"Done\")\n",
        "\n",
        "print(\"Trainig RandomForest modified by StandardScaler...\")\n",
        "for i in tqdm(range(len(scaled_train_x))):\n",
        "  RF = RandomForestClassifier(random_state=37).fit(scaled_train_x[i], com_train_y)\n",
        "  y_pred = RF.predict(scaled_test_x[i])\n",
        "  score = 0\n",
        "  tmp_test_np = com_test_y.values\n",
        "  for i in range(len(y_pred)):\n",
        "    if y_pred[i] == tmp_test_np[i]:\n",
        "      score = score + 1\n",
        "  acc.append(score / len(y_pred) * 100)\n",
        "print(\"Done\")\n",
        "\n",
        "print(\"Trainig GradientBoosting modified by StandardScaler...\")\n",
        "for i in tqdm(range(len(scaled_train_x))):\n",
        "  GB = GradientBoostingClassifier(random_state=37).fit(scaled_train_x[i], com_train_y)\n",
        "  y_pred = GB.predict(scaled_test_x[i])\n",
        "  score = 0\n",
        "  tmp_test_np = com_test_y.values\n",
        "  for i in range(len(y_pred)):\n",
        "    if y_pred[i] == tmp_test_np[i]:\n",
        "      score = score + 1\n",
        "  gb_acc.append(score / len(y_pred) * 100)\n",
        "print(\"Done\")"
      ],
      "metadata": {
        "colab": {
          "base_uri": "https://localhost:8080/"
        },
        "id": "zZPC4P6jsQnz",
        "outputId": "adb3a5d9-7bb8-4267-f050-2f4e4b9347e7"
      },
      "execution_count": 82,
      "outputs": [
        {
          "output_type": "stream",
          "name": "stdout",
          "text": [
            "Trainig Original modified by StandardScaler...\n"
          ]
        },
        {
          "output_type": "stream",
          "name": "stderr",
          "text": [
            "100%|██████████| 6/6 [00:00<00:00, 14.60it/s]\n"
          ]
        },
        {
          "output_type": "stream",
          "name": "stdout",
          "text": [
            "Trainig RandomForest modified by StandardScaler...\n"
          ]
        },
        {
          "output_type": "stream",
          "name": "stderr",
          "text": [
            "100%|██████████| 6/6 [00:02<00:00,  2.18it/s]\n"
          ]
        },
        {
          "output_type": "stream",
          "name": "stdout",
          "text": [
            "Trainig GradientBoosting modified by StandardScaler...\n"
          ]
        },
        {
          "output_type": "stream",
          "name": "stderr",
          "text": [
            "100%|██████████| 6/6 [01:55<00:00, 19.32s/it]\n"
          ]
        }
      ]
    },
    {
      "cell_type": "code",
      "source": [
        "plt.figure(figsize = (15,6))\n",
        "for i in range(len(scaling)):\n",
        "  plt.plot(range(len(acc) // len(scaling)), np.array(acc)[len(acc)//len(scaling) * i:len(acc)// len(scaling) * (i+1)], marker = \".\", label = f'RF_{scaling[i]}')\n",
        "for i in range(len(scaling)):\n",
        "  plt.plot(range(len(gb_acc) // len(scaling)), np.array(gb_acc)[len(gb_acc)//len(scaling) * i:len(gb_acc)// len(scaling) * (i+1)], marker = \".\", label = f'GB_{scaling[i]}')\n",
        "\n",
        "plt.ylim(min(acc + gb_acc)-3, max(acc+gb_acc)+3)\n",
        "plt.xticks(range(len(acc)//len(scaling)),test_acc)\n",
        "plt.xlabel('Preprocess Method')\n",
        "plt.ylabel('Acc')\n",
        "plt.legend()\n",
        "plt.show()"
      ],
      "metadata": {
        "colab": {
          "base_uri": "https://localhost:8080/",
          "height": 391
        },
        "id": "OHvUK_jgxvqh",
        "outputId": "c5d60fcb-0298-4914-b2d8-978364a4e148"
      },
      "execution_count": 83,
      "outputs": [
        {
          "output_type": "display_data",
          "data": {
            "text/plain": [
              "<Figure size 1080x432 with 1 Axes>"
            ],
            "image/png": "[encoded data removed]"
          },
          "metadata": {
            "needs_background": "light"
          }
        }
      ]
    },
    {
      "cell_type": "code",
      "source": [
        "plt.figure(figsize = (20,8))\n",
        "index = np.arange(len(test_acc))\n",
        "total_acc = acc + gb_acc\n",
        "total_acc_np = np.array(total_acc).reshape(-1,6)\n",
        "total_acc_df = pd.DataFrame(total_acc_np, columns = test_acc, index = np.arange(6))\n",
        "\n",
        "w = 0.15\n",
        "for i,k in enumerate(test_acc):\n",
        "  plt.bar(index - ((-2 + i)* w), total_acc_df.loc[i], width = w, label = f'{model_lst[i//3]}_{scaling[i%len(scaling)]}')\n",
        "plt.xticks(range(len(test_acc)),test_acc)\n",
        "plt.xlabel('Preprocess Method')\n",
        "plt.ylabel('Acc')\n",
        "plt.ylim(min(total_acc)-3, max(total_acc) + 3)\n",
        "plt.legend()\n",
        "plt.grid()\n",
        "plt.show()"
      ],
      "metadata": {
        "colab": {
          "base_uri": "https://localhost:8080/",
          "height": 499
        },
        "id": "_kiillHnxkFj",
        "outputId": "6887dcbc-f87d-4222-bd1d-a72b215191a8"
      },
      "execution_count": 88,
      "outputs": [
        {
          "output_type": "display_data",
          "data": {
            "text/plain": [
              "<Figure size 1440x576 with 1 Axes>"
            ],
            "image/png": "[encoded data removed]"
          },
          "metadata": {
            "needs_background": "light"
          }
        }
      ]
    }
  ]
}